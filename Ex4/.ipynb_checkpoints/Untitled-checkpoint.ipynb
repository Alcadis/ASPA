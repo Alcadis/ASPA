{
 "cells": [
  {
   "cell_type": "code",
   "execution_count": 1,
   "id": "2a9d283f-628e-406d-a55f-76238054365e",
   "metadata": {},
   "outputs": [
    {
     "name": "stderr",
     "output_type": "stream",
     "text": [
      "Registered S3 methods overwritten by 'ggplot2':\n",
      "  method         from \n",
      "  [.quosures     rlang\n",
      "  c.quosures     rlang\n",
      "  print.quosures rlang\n"
     ]
    }
   ],
   "source": [
    "library(ggplot2)\n",
    "library(knitr)\n",
    "options(repr.plot.width=6, repr.plot.height=4)"
   ]
  },
  {
   "cell_type": "markdown",
   "id": "b7d62421-d702-434b-a63b-5e58cb408cb3",
   "metadata": {},
   "source": [
    "### Exercise 1"
   ]
  },
  {
   "cell_type": "markdown",
   "id": "de63c1d2-ac48-4bdf-a838-3da840e0f708",
   "metadata": {},
   "source": [
    "- A well established and diffused method for detecting a disease in blood fails to detect the presence of disease in 15% of the patients that actually have the disease. (100 pazienti avevano la malattia, ne ha trovati 85 con la malattia e 15 senza)"
   ]
  },
  {
   "cell_type": "markdown",
   "id": "10812bc2-cb8e-47b3-9312-0ff62b2872aa",
   "metadata": {},
   "source": [
    "- A young UniPD startUp has developed an innovative method of screening. During the qualification phase, a random sample of n = 75 patients known to have the disease is screened using the new method. (sappiamo solo il sample size ma non l'accuratezza)"
   ]
  },
  {
   "cell_type": "markdown",
   "id": "e8c92863-b48f-40be-8d54-a9b90f1eb20e",
   "metadata": {},
   "source": [
    "a) What is the probability distribution of y, the number of times the new method fails to detect the disease?"
   ]
  },
  {
   "cell_type": "code",
   "execution_count": 2,
   "id": "7c651c4a-893d-4808-85fe-d55569cf2a23",
   "metadata": {},
   "outputs": [
    {
     "name": "stdout",
     "output_type": "stream",
     "text": [
      "The most probable number of failures in 75 attempts is: 11 \n",
      "The probability of getting 75 failures in 75 attempts with a 85% accuracy is: 1.610069e-62"
     ]
    },
    {
     "data": {
      "image/png": "[encoded data removed]",
      "text/plain": [
       "plot without title"
      ]
     },
     "metadata": {},
     "output_type": "display_data"
    }
   ],
   "source": [
    "#i have two outcomes, disease or no disease. each screening is indipendent, so the binomial distribution describes the situation quite well.\n",
    "sample_size = 75 #total number of trials\n",
    "p_failure = 0.15\n",
    "\n",
    "#i have only the accuracy of the old method, so i assume that the accuracy of the new method is the same for now.\n",
    "y_values = seq(0,75) #all possible outcomes\n",
    "probabilities = dbinom(y_values, sample_size, p_failure)\n",
    "df = data.frame(y=y_values, probabilities=probabilities)\n",
    "\n",
    "ggplot(df, aes(x=y, y=probabilities)) + #wanted to try some different visualizations ways as previous exercises. \n",
    "    geom_bar(stat=\"identity\", width=0.8, fill=\"#56B4E9\", color=\"black\") +\n",
    "    coord_cartesian(xlim=c(0, 30)) +\n",
    "    labs(\n",
    "        x=\"Number of Failures\",\n",
    "        y=\"Probability\",\n",
    "        title=\"Probability Distribution of Failures\") +\n",
    "    scale_x_continuous(breaks = seq(0, sample_size, by=5)) +\n",
    "    #scale_y_continuous(expand = expansion(mult = c(0, 0.05))) + \n",
    "    theme(\n",
    "        text = element_text(size=12),\n",
    "        axis.title.x = element_text(face=\"bold\", size=12),\n",
    "        axis.title.y = element_text(face=\"bold\", size=12),\n",
    "        axis.text = element_text(color=\"black\"),\n",
    "        axis.ticks = element_line(color=\"black\"),\n",
    "        plot.title = element_text(hjust=0.5, face=\"bold\", size=14),\n",
    "        panel.background = element_rect(fill = \"white\", color = \"black\"),\n",
    "        panel.grid.major = element_line(size=0.5, linetype='solid', color=\"grey80\"),\n",
    "        panel.grid.minor = element_line(size=0.25, linetype='solid', color=\"grey90\"))\n",
    "\n",
    "#some interesting infos\n",
    "cat(\"The most probable number of failures in 75 attempts is:\", df$y[which.max(df$probabilities)], '\\n')\n",
    "cat(\"The probability of getting 75 failures in 75 attempts with a 85% accuracy is:\", df$probabilities[df$y == 75]) #0.15^75"
   ]
  },
  {
   "cell_type": "markdown",
   "id": "8a6d6bb3-1ad0-4164-980e-051c165a79fc",
   "metadata": {},
   "source": [
    "b) On the n = 75 patients sample, the new method fails to detect the disease in y = 6 cases. What is the frequentist estimator of the failure probability of the new method?"
   ]
  },
  {
   "cell_type": "code",
   "execution_count": 3,
   "id": "4eefe5aa-586a-451a-a8d2-271a68cb27f0",
   "metadata": {},
   "outputs": [
    {
     "name": "stdout",
     "output_type": "stream",
     "text": [
      "The new failure probability is: 8 %"
     ]
    }
   ],
   "source": [
    "y = 6\n",
    "p_failure_new = y/sample_size\n",
    "cat(\"The new failure probability is:\", p_failure_new*100, \"%\")"
   ]
  },
  {
   "cell_type": "markdown",
   "id": "141197aa-10dc-4465-a98b-90c8d455c354",
   "metadata": {},
   "source": [
    "c) Setup a bayesian computation of the posterior probability, assuming a beta distribution with a mean value = 0.15 and a standard deviation = 0.14. Plot the posterior distribution for y, and mark on the plot the mean value and variance."
   ]
  },
  {
   "cell_type": "code",
   "execution_count": 4,
   "id": "d955953d-b148-4475-be86-139552d7dd9f",
   "metadata": {},
   "outputs": [
    {
     "data": {
      "image/png": "[encoded data removed]",
      "text/plain": [
       "plot without title"
      ]
     },
     "metadata": {},
     "output_type": "display_data"
    }
   ],
   "source": [
    "mean_prior = 0.15\n",
    "std_prior = 0.14\n",
    "ps = seq(0,1,length=100)\n",
    "\n",
    "#mu = alpha / (alpha+beta)\n",
    "#std^2 = alpha*beta / [(alpha + beta)^2 * (alpha + beta + 1)]\n",
    "\n",
    "alpha_prior = (mean_prior * ((mean_prior * (1 - mean_prior)) / std_prior^2 - 1))\n",
    "beta_prior = (1 - mean_prior) * ((mean_prior * (1 - mean_prior)) / std_prior^2 - 1)\n",
    "\n",
    "alpha_post = alpha_prior + y\n",
    "beta_post = beta_prior + sample_size - y\n",
    "\n",
    "data_post = dbeta(ps, alpha_post, beta_post)\n",
    "df_post = data.frame(ps=ps, data_post=data_post)\n",
    "\n",
    "mean_post = alpha_post / (alpha_post + beta_post)\n",
    "std_post = (alpha_post*beta_post) / ((alpha_post+beta_post)^2 * (alpha_post + beta_post + 1))\n",
    "\n",
    "ggplot(df_post, aes(x=ps, y=data_post)) +\n",
    "    geom_bar(stat=\"identity\", width=0.008, fill=\"#56B4E9\", color=\"black\") +\n",
    "    #geom_col(width=1/length(ps), fill=\"blue\", color=\"black\", alpha=0.5) +\n",
    "    geom_line(color=\"orange\", size=0.8) +\n",
    "    geom_vline(xintercept=mean_post, color=\"red\", linetype=\"dashed\", size=0.8) +\n",
    "    annotate(\"text\", x=mean_post, y=max(df_post$data_post), label=paste(\"Mean =\", round(mean_post, 4)), color=\"black\", hjust=-0.1) +\n",
    "    annotate(\"text\", x=mean_post, y=max(df_post$data_post) - 0.5, label=paste(\"Std =\", round(std_post, 4)), color = \"black\", hjust = -0.1) +\n",
    "    coord_cartesian(xlim=c(0, 0.3)) +\n",
    "    labs(x=\"Failure Probability\",\n",
    "         y=\"Density\", \n",
    "         title=\"Posterior Distribution of Failure Probability\") +\n",
    "    scale_x_continuous(breaks = seq(0, sample_size, by=5)) +\n",
    "    #scale_y_continuous(expand = expansion(mult = c(0, 0.05))) + \n",
    "    theme(text = element_text(size=12),\n",
    "          axis.title.x = element_text(face=\"bold\", size=12),\n",
    "          axis.title.y = element_text(face=\"bold\", size=12),\n",
    "          axis.text = element_text(color=\"black\"),\n",
    "          axis.ticks = element_line(color=\"black\"),\n",
    "          plot.title = element_text(hjust=0.5, face=\"bold\", size=14),\n",
    "          panel.background = element_rect(fill = \"white\", color = \"black\"),\n",
    "          panel.grid.major = element_line(size=0.5, linetype='solid', color=\"grey80\"),\n",
    "          panel.grid.minor = element_line(size=0.25, linetype='solid', color=\"grey90\"))"
   ]
  },
  {
   "cell_type": "markdown",
   "id": "2ce5b8ce-6dab-491e-b088-edcc5bd88783",
   "metadata": {},
   "source": [
    "d) Perform a test of hypothesis assuming that if the probability of failing to the detect the desease in\n",
    "ill patients is greater or equal than 15%, the new test is no better that the traditional method. Test\n",
    "the sample at a 5% level of significance in the Bayesian way."
   ]
  },
  {
   "cell_type": "code",
   "execution_count": 5,
   "id": "eca3e238-f63f-4382-a036-09d135ad6d21",
   "metadata": {},
   "outputs": [
    {
     "name": "stdout",
     "output_type": "stream",
     "text": [
      "The new test is better than the standard method."
     ]
    }
   ],
   "source": [
    "p_limit = 0.15\n",
    "new_posterior = 1 - pbeta(p_limit, alpha_post, beta_post)\n",
    "\n",
    "los = 0.05\n",
    "if (new_posterior > los) {\n",
    "  cat(\"The new test isn't better than the standard method.\\n\")\n",
    "} else {\n",
    "  cat(\"The new test is better than the standard method.\")\n",
    "}"
   ]
  },
  {
   "cell_type": "markdown",
   "id": "652cc465-43fa-4f2e-a361-19b44b447a7b",
   "metadata": {},
   "source": [
    "(e) Perform the same hypothesis test in the classical frequentist way."
   ]
  },
  {
   "cell_type": "code",
   "execution_count": 6,
   "id": "5f85e5b0-00cb-4bd4-a14e-e8e73578c2ce",
   "metadata": {},
   "outputs": [
    {
     "name": "stdout",
     "output_type": "stream",
     "text": [
      "The new test is better than the standard method."
     ]
    }
   ],
   "source": [
    "z = (p_failure_new - p_failure) / sqrt((p_failure * (1 - p_failure)) / sample_size)\n",
    "p_value = pnorm(z)\n",
    "\n",
    "if (p_value > los) {\n",
    "  cat(\"The new test isn't better than the standard method.\\n\")\n",
    "} else {\n",
    "  cat(\"The new test is better than the standard method.\")\n",
    "}"
   ]
  },
  {
   "cell_type": "markdown",
   "id": "72476741-888c-4c67-bfd6-1a5aac231fe7",
   "metadata": {},
   "source": [
    "### Exercise 2"
   ]
  },
  {
   "cell_type": "markdown",
   "id": "a7c6351f-7564-48c1-b714-d0028730d2d6",
   "metadata": {},
   "source": [
    "A researcher has collected n = 16 observations that are supposed to come from a Normal distribution with known variance $\\sigma^2 = 4$:\n",
    "\n",
    "4.09, 4.68, 1.87, 2.62, 5.58, 8.68, 4.07, 4.78, 4.79, 4.49, 5.85, 5.09, 2.40, 6.27, 6.30, 4.47"
   ]
  },
  {
   "cell_type": "markdown",
   "id": "a384b998-bc56-4832-9ff4-651f87ef13c9",
   "metadata": {},
   "source": [
    "Assuming the prior is a step function \n",
    "\n",
    "$$\n",
    "\\begin{equation}\n",
    "g(\\mu) =\n",
    "\\begin{cases} \n",
    "    \\mu & \\text{for } 0 < \\mu \\leq 3 \\\\\n",
    "    3 & \\text{for } 3 < \\mu \\leq 5 \\\\\n",
    "    8 - \\mu & \\text{for } 5 < \\mu \\leq 8 \\\\\n",
    "    0 & \\text{for } \\mu > 8\n",
    "\\end{cases}\n",
    "\\end{equation}\n",
    "$$ses}\r\n",
    "\\]"
   ]
  },
  {
   "cell_type": "markdown",
   "id": "e8bcc00f-0b4e-4aaf-bc0b-cf1e4d24fe8c",
   "metadata": {},
   "source": [
    "a) find the posterior distribution, the posterior mean and standard deviation"
   ]
  },
  {
   "cell_type": "code",
   "execution_count": 11,
   "id": "22a91c08-a9ed-46cf-bb80-ed70dac9019a",
   "metadata": {},
   "outputs": [],
   "source": [
    "data = c(4.09, 4.68, 1.87, 2.62, 5.58, 8.68, 4.07, 4.78, 4.79, 4.49, 5.85, 5.09, 2.40, 6.27, 6.30, 4.47)\n",
    "n =  length(data)\n",
    "\n",
    "prior = function(mu) {\n",
    "    if (0 < mu && mu <= 3) {\n",
    "        g = mu\n",
    "    }\n",
    "    else if (3 < mu && mu <= 5) {\n",
    "        g = 3\n",
    "    }\n",
    "    else if (5 < mu && mu <= 8) {\n",
    "        g = 8 - mu\n",
    "    }\n",
    "    else if (mu > 8) {\n",
    "        g = 0\n",
    "    } \n",
    "    return(g)\n",
    "}"
   ]
  },
  {
   "cell_type": "code",
   "execution_count": null,
   "id": "61fb4f12-c3b0-4ea9-bacc-d61901280909",
   "metadata": {},
   "outputs": [],
   "source": []
  }
 ],
 "metadata": {
  "kernelspec": {
   "display_name": "R",
   "language": "R",
   "name": "ir"
  },
  "language_info": {
   "codemirror_mode": "r",
   "file_extension": ".r",
   "mimetype": "text/x-r-source",
   "name": "R",
   "pygments_lexer": "r",
   "version": "3.6.1"
  }
 },
 "nbformat": 4,
 "nbformat_minor": 5
}
