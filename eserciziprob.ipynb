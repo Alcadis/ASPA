{
 "cells": [
  {
   "cell_type": "markdown",
   "id": "4cf98029-afd3-45bd-83cf-08f7a1ca2429",
   "metadata": {},
   "source": [
    "#binomial distribution ex\n",
    "\n",
    "in a restaurant 8 entrees of fish, 12 of beef and 10 of poultry are served\n",
    "\n",
    "what is the probability that 2 of the 4 next customers order fish entrees ?"
   ]
  },
  {
   "cell_type": "code",
   "execution_count": 1,
   "id": "ae3c4df2-9ee6-4c71-88ad-1857b42f722f",
   "metadata": {},
   "outputs": [
    {
     "data": {
      "text/html": [
       "0.266666666666667"
      ],
      "text/latex": [
       "0.266666666666667"
      ],
      "text/markdown": [
       "0.266666666666667"
      ],
      "text/plain": [
       "[1] 0.2666667"
      ]
     },
     "metadata": {},
     "output_type": "display_data"
    },
    {
     "data": {
      "text/html": [
       "0.229451851851852"
      ],
      "text/latex": [
       "0.229451851851852"
      ],
      "text/markdown": [
       "0.229451851851852"
      ],
      "text/plain": [
       "[1] 0.2294519"
      ]
     },
     "metadata": {},
     "output_type": "display_data"
    }
   ],
   "source": [
    "fish = 8\n",
    "beef = 12\n",
    "poultry = 10\n",
    "\n",
    "p_fish = fish / (fish + beef + poultry)\n",
    "p_fish\n",
    "\n",
    "dbinom(2,4,p_fish)"
   ]
  },
  {
   "cell_type": "markdown",
   "id": "0ef5d39d-e839-4f95-86be-1fa97c777e4c",
   "metadata": {},
   "source": [
    "#multinomial distribution ex\n",
    "\n",
    "in a certain town, at 20:00, 30% of the TV audience watches the news, 25% a TV show, and the rest other programs\n",
    "\n",
    "What is the probability that, selecting 7 random viewers, exactly 3 watch the news\n",
    "and at least 2 watch the TV show ?"
   ]
  },
  {
   "cell_type": "code",
   "execution_count": 5,
   "id": "98a597f7-0c95-450d-a99a-2e853449b060",
   "metadata": {},
   "outputs": [
    {
     "data": {
      "text/html": [
       "0.10203046875"
      ],
      "text/latex": [
       "0.10203046875"
      ],
      "text/markdown": [
       "0.10203046875"
      ],
      "text/plain": [
       "[1] 0.1020305"
      ]
     },
     "metadata": {},
     "output_type": "display_data"
    }
   ],
   "source": [
    "news = 3/10\n",
    "shows = 2.5/10\n",
    "rest = 1 - news - shows\n",
    "\n",
    "viwers = 7\n",
    "n = 3\n",
    "s1 = 2\n",
    "s2 = 3\n",
    "s3 = 4\n",
    "r1 = viwers - n - s1\n",
    "r2 = viwers - n - s2\n",
    "r3 = viwers - n - s3\n",
    "\n",
    "prob1 = dmultinom(x = c(n,s1,r1), size = viwers, prob = c(news, shows, rest))\n",
    "prob2 = dmultinom(x = c(n,s2,r2), size = viwers, prob = c(news, shows, rest))\n",
    "prob3 = dmultinom(x = c(n,s3,r3), size = viwers, prob = c(news, shows, rest))\n",
    "\n",
    "prob = prob1 + prob2 + prob3\n",
    "prob"
   ]
  },
  {
   "cell_type": "markdown",
   "id": "976e8d73-c516-4d8f-b847-ae46fde3b5fa",
   "metadata": {},
   "source": [
    "#poisson process ex\n",
    "\n",
    "the average number of received wrong phone calls per week is 7.\n",
    "\n",
    "what is the probability to get, tomorrow, \n",
    "\n",
    "A) two wrong calls? \n",
    "B) at least one wrong call ?"
   ]
  },
  {
   "cell_type": "code",
   "execution_count": 9,
   "id": "f2dbcaf6-92b0-44bc-81c0-4422c50dc410",
   "metadata": {},
   "outputs": [
    {
     "data": {
      "text/html": [
       "0.183939720585721"
      ],
      "text/latex": [
       "0.183939720585721"
      ],
      "text/markdown": [
       "0.183939720585721"
      ],
      "text/plain": [
       "[1] 0.1839397"
      ]
     },
     "metadata": {},
     "output_type": "display_data"
    },
    {
     "data": {
      "text/html": [
       "0.632120558828558"
      ],
      "text/latex": [
       "0.632120558828558"
      ],
      "text/markdown": [
       "0.632120558828558"
      ],
      "text/plain": [
       "[1] 0.6321206"
      ]
     },
     "metadata": {},
     "output_type": "display_data"
    }
   ],
   "source": [
    "lambda = 7 #in a week\n",
    "lambda = 1 #in a day\n",
    "dpois(2, lambda)\n",
    "1 - dpois(0, lambda)"
   ]
  },
  {
   "cell_type": "markdown",
   "id": "1d39b49a-a063-4080-b83b-6ca6c9591fa6",
   "metadata": {},
   "source": [
    "#poisson process ex\n",
    "\n",
    "a radioactive substance emits on average 3.9 α/s per gram\n",
    "\n",
    "compute the probability that, in the next second, the number of emitted alpha\n",
    "particles is\n",
    "\n",
    "A) at most 6\n",
    "\n",
    "B) at least 2\n",
    "\n",
    "C) at least 3 and at most 6"
   ]
  },
  {
   "cell_type": "code",
   "execution_count": 12,
   "id": "284c9e6f-ee3c-4330-aaba-d0eef9538634",
   "metadata": {},
   "outputs": [
    {
     "data": {
      "text/html": [
       "0.899483035093612"
      ],
      "text/latex": [
       "0.899483035093612"
      ],
      "text/markdown": [
       "0.899483035093612"
      ],
      "text/plain": [
       "[1] 0.899483"
      ]
     },
     "metadata": {},
     "output_type": "display_data"
    },
    {
     "data": {
      "text/html": [
       "0.900814633915558"
      ],
      "text/latex": [
       "0.900814633915558"
      ],
      "text/markdown": [
       "0.900814633915558"
      ],
      "text/plain": [
       "[1] 0.9008146"
      ]
     },
     "metadata": {},
     "output_type": "display_data"
    },
    {
     "data": {
      "text/html": [
       "0.646357932463828"
      ],
      "text/latex": [
       "0.646357932463828"
      ],
      "text/markdown": [
       "0.646357932463828"
      ],
      "text/plain": [
       "[1] 0.6463579"
      ]
     },
     "metadata": {},
     "output_type": "display_data"
    }
   ],
   "source": [
    "lambda = 3.9\n",
    "ppois(6, lambda)\n",
    "1 - ppois(1, lambda)\n",
    "ppois(6, lambda) - ppois(2, lambda) #calcolo da 0 a 6 e poi tolgo da 0 a 2 ottenendo da 3 a 6"
   ]
  },
  {
   "cell_type": "markdown",
   "id": "9900497a-6019-4e0c-917c-ea4b8985cc45",
   "metadata": {},
   "source": [
    "children are born at a Poisson rate of 5/day in a countryside hospital. What is the probability\n",
    "that:\n",
    "a) at least two babies are born in the next six hours ?\n",
    "b) no babies are born in the next two days ?"
   ]
  },
  {
   "cell_type": "code",
   "execution_count": 6,
   "id": "66dbe11d-9246-4c92-942a-242bef42e36f",
   "metadata": {},
   "outputs": [
    {
     "data": {
      "text/html": [
       "0.355364207064572"
      ],
      "text/latex": [
       "0.355364207064572"
      ],
      "text/markdown": [
       "0.355364207064572"
      ],
      "text/plain": [
       "[1] 0.3553642"
      ]
     },
     "metadata": {},
     "output_type": "display_data"
    },
    {
     "data": {
      "text/html": [
       "4.53999297624849e-05"
      ],
      "text/latex": [
       "4.53999297624849e-05"
      ],
      "text/markdown": [
       "4.53999297624849e-05"
      ],
      "text/plain": [
       "[1] 4.539993e-05"
      ]
     },
     "metadata": {},
     "output_type": "display_data"
    }
   ],
   "source": [
    "lambda = (5/24) * 6 #per day so 24 hours\n",
    "#a\n",
    "1 - ppois(1, lambda)\n",
    "#b\n",
    "lambda = 5*2\n",
    "dpois(0, lambda)"
   ]
  },
  {
   "cell_type": "markdown",
   "id": "e204628f-4775-476f-ad4e-785560882bbc",
   "metadata": {},
   "source": [
    "### exponential"
   ]
  },
  {
   "cell_type": "markdown",
   "id": "6c8b501f-c925-47a7-9f2f-8e08a43f075e",
   "metadata": {},
   "source": [
    "suppose that every three\n",
    "months, an earthquake of\n",
    "some entity happens in Italy\n",
    "\n",
    "what is the probability that the\n",
    "next earthquake happens\n",
    "after three but before seven\n",
    "months ?"
   ]
  },
  {
   "cell_type": "code",
   "execution_count": 14,
   "id": "7e83b5c2-0700-43f7-81f8-6e78739d0a2b",
   "metadata": {},
   "outputs": [
    {
     "data": {
      "text/html": [
       "0.270907473307037"
      ],
      "text/latex": [
       "0.270907473307037"
      ],
      "text/markdown": [
       "0.270907473307037"
      ],
      "text/plain": [
       "[1] 0.2709075"
      ]
     },
     "metadata": {},
     "output_type": "display_data"
    }
   ],
   "source": [
    "lambda = 1/3 #one in 3 months\n",
    "three = pexp(3, lambda)\n",
    "seven = pexp(7, lambda)\n",
    "seven - three"
   ]
  },
  {
   "cell_type": "markdown",
   "id": "5845ba8a-4a0f-4034-876d-10ed65ea9bfd",
   "metadata": {},
   "source": [
    "The lifetime of an electronic component, in years, is a random variable with mean\n",
    "10 years\n",
    "\n",
    "I bought the component 5 years ago.\n",
    "- What is the probability that it will last for another 10 years ?"
   ]
  },
  {
   "cell_type": "code",
   "execution_count": 1,
   "id": "1af264dd-cbc8-4f6e-a9bd-c8cc919ac051",
   "metadata": {},
   "outputs": [
    {
     "data": {
      "text/html": [
       "0.367879441171442"
      ],
      "text/latex": [
       "0.367879441171442"
      ],
      "text/markdown": [
       "0.367879441171442"
      ],
      "text/plain": [
       "[1] 0.3678794"
      ]
     },
     "metadata": {},
     "output_type": "display_data"
    }
   ],
   "source": [
    "mean = 1/10\n",
    "1 - pexp(10, mean)"
   ]
  },
  {
   "cell_type": "code",
   "execution_count": 10,
   "id": "69dc3170-cb6e-432a-85d8-e8e2c9fdd6f8",
   "metadata": {},
   "outputs": [
    {
     "data": {
      "text/html": [
       "<style>\n",
       ".list-inline {list-style: none; margin:0; padding: 0}\n",
       ".list-inline>li {display: inline-block}\n",
       ".list-inline>li:not(:last-child)::after {content: \"\\00b7\"; padding: 0 .5ex}\n",
       "</style>\n",
       "<ol class=list-inline><li>7</li><li>3</li></ol>\n"
      ],
      "text/latex": [
       "\\begin{enumerate*}\n",
       "\\item 7\n",
       "\\item 3\n",
       "\\end{enumerate*}\n"
      ],
      "text/markdown": [
       "1. 7\n",
       "2. 3\n",
       "\n",
       "\n"
      ],
      "text/plain": [
       "[1] 7 3"
      ]
     },
     "metadata": {},
     "output_type": "display_data"
    }
   ],
   "source": [
    "x = c(1,4,7,3,7,8)\n",
    "x = x[-c(1,2,length(x)-1, length(x))]\n",
    "x"
   ]
  },
  {
   "cell_type": "code",
   "execution_count": 15,
   "id": "778027b2-4ab0-4e15-b57f-4e379c3d6bc3",
   "metadata": {},
   "outputs": [
    {
     "data": {
      "text/html": [
       "<style>\n",
       ".list-inline {list-style: none; margin:0; padding: 0}\n",
       ".list-inline>li {display: inline-block}\n",
       ".list-inline>li:not(:last-child)::after {content: \"\\00b7\"; padding: 0 .5ex}\n",
       "</style>\n",
       "<ol class=list-inline><li>0</li><li>1</li><li>2</li><li>3</li><li>4</li><li>5</li><li>6</li><li>7</li><li>8</li><li>9</li><li>10</li><li>11</li><li>12</li><li>13</li><li>14</li></ol>\n"
      ],
      "text/latex": [
       "\\begin{enumerate*}\n",
       "\\item 0\n",
       "\\item 1\n",
       "\\item 2\n",
       "\\item 3\n",
       "\\item 4\n",
       "\\item 5\n",
       "\\item 6\n",
       "\\item 7\n",
       "\\item 8\n",
       "\\item 9\n",
       "\\item 10\n",
       "\\item 11\n",
       "\\item 12\n",
       "\\item 13\n",
       "\\item 14\n",
       "\\end{enumerate*}\n"
      ],
      "text/markdown": [
       "1. 0\n",
       "2. 1\n",
       "3. 2\n",
       "4. 3\n",
       "5. 4\n",
       "6. 5\n",
       "7. 6\n",
       "8. 7\n",
       "9. 8\n",
       "10. 9\n",
       "11. 10\n",
       "12. 11\n",
       "13. 12\n",
       "14. 13\n",
       "15. 14\n",
       "\n",
       "\n"
      ],
      "text/plain": [
       " [1]  0  1  2  3  4  5  6  7  8  9 10 11 12 13 14"
      ]
     },
     "metadata": {},
     "output_type": "display_data"
    }
   ],
   "source": [
    "v = seq(0,20,1)\n",
    "v[-seq(length(v), length(v) -5, -1)]"
   ]
  }
 ],
 "metadata": {
  "kernelspec": {
   "display_name": "R",
   "language": "R",
   "name": "ir"
  },
  "language_info": {
   "codemirror_mode": "r",
   "file_extension": ".r",
   "mimetype": "text/x-r-source",
   "name": "R",
   "pygments_lexer": "r",
   "version": "4.3.1"
  }
 },
 "nbformat": 4,
 "nbformat_minor": 5
}
