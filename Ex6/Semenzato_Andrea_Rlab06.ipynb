{
 "cells": [
  {
   "cell_type": "code",
   "execution_count": 1,
   "id": "9f45e29e-236d-47a7-8d30-3138291a9476",
   "metadata": {},
   "outputs": [
    {
     "name": "stderr",
     "output_type": "stream",
     "text": [
      "Warning message:\n",
      "“package ‘rstan’ was built under R version 4.3.3”\n",
      "Loading required package: StanHeaders\n",
      "\n",
      "Warning message:\n",
      "“package ‘StanHeaders’ was built under R version 4.3.3”\n",
      "\n",
      "rstan version 2.32.6 (Stan version 2.32.2)\n",
      "\n",
      "\n",
      "For execution on a local, multicore CPU with excess RAM we recommend calling\n",
      "options(mc.cores = parallel::detectCores()).\n",
      "To avoid recompilation of unchanged Stan programs, we recommend calling\n",
      "rstan_options(auto_write = TRUE)\n",
      "For within-chain threading using `reduce_sum()` or `map_rect()` Stan functions,\n",
      "change `threads_per_chain` option:\n",
      "rstan_options(threads_per_chain = 1)\n",
      "\n",
      "\n"
     ]
    }
   ],
   "source": [
    "library(ggplot2)\n",
    "library(knitr)\n",
    "library(rstan)"
   ]
  },
  {
   "cell_type": "markdown",
   "id": "c21b66cd-6929-4192-aaf0-a41011002c10",
   "metadata": {},
   "source": [
    "### Exercise 1"
   ]
  },
  {
   "cell_type": "markdown",
   "id": "00d076f2-f46a-4cb7-ae66-74486b24da48",
   "metadata": {},
   "source": [
    "Ladislaus Josephovich Bortkiewicz was a Russian economist and statistician. He noted that the\n",
    "Poisson distribution can be very useful in applied statistics when describing low-frequency events\n",
    "in a large population. In a famous example he showed that the number of deaths by horse kick\n",
    "among the Prussian army follows the Poisson distribution.\n",
    "Considering the following to sets of observations taken over a fi\f",
    "xed large time interval in two different \n",
    "corp:\n",
    "\n",
    "\n",
    "$$\n",
    "\\begin{array}{c|cccccc}\n",
    "\\text{y death soldiers} & 0 & 1 & 2 & 3 & 4 & \\geq 5 \\\\ \\hline\n",
    "n_1 \\text{ observations}  & 109 & 65 & 22 & 3 & 1 & 0 \\\\\n",
    "n_2 \\text{ observations}  & 144 & 91 & 32 & 11 & 2 & 0 \\\\\n",
    "\\end{array}\n",
    "$$"
   ]
  },
  {
   "cell_type": "markdown",
   "id": "cbcda765-d79d-438e-978a-b4398a6bad3e",
   "metadata": {},
   "source": [
    "a) assuming a uniform prior, compute and plot the posterior distribution for $\\lambda$, the death rate over the measurement time. Determine the posterior mean, median and variance, and compute the 95% credibility interval."
   ]
  },
  {
   "cell_type": "code",
   "execution_count": 2,
   "id": "bf646608-469d-4212-aa5a-0043e0cbc9b2",
   "metadata": {},
   "outputs": [
    {
     "data": {
      "text/plain": [
       "\n",
       "\n",
       "|Statistic                |Value            |\n",
       "|:------------------------|:----------------|\n",
       "|Posterior Mean           |0.6646           |\n",
       "|Posterior Median         |0.6639           |\n",
       "|Posterior Variance       |0.0014           |\n",
       "|95% Credibility Interval |(0.5936, 0.7395) |"
      ]
     },
     "metadata": {},
     "output_type": "display_data"
    },
    {
     "data": {
      "image/png": "[encoded data removed]",
      "text/plain": [
       "plot without title"
      ]
     },
     "metadata": {
      "image/png": {
       "height": 420,
       "width": 420
      }
     },
     "output_type": "display_data"
    }
   ],
   "source": [
    "#poisson data distribution, uniform prior (gamma(1,0))  --> gamma posterior\n",
    "\n",
    "y = c(0,1,2,3,4,5)\n",
    "n1 = c(109, 65, 22, 3, 1, 0)\n",
    "n2 = c(144, 91, 32, 11, 2, 0)\n",
    "t1 = sum(n1)\n",
    "t2 = sum(n2)\n",
    "deaths1 = sum(n1*y)\n",
    "deaths2 = sum(n2*y)\n",
    "total = t1 + t2\n",
    "deaths = deaths1 + deaths2\n",
    "\n",
    "alpha_prior = 1\n",
    "beta_prior = 0\n",
    "\n",
    "alpha_post = alpha_prior + deaths\n",
    "beta_post = beta_prior + total\n",
    "\n",
    "n = 10000\n",
    "lambda = seq(0, 1, length=n)\n",
    "\n",
    "posterior = function(lambda) {\n",
    "    dgamma(lambda, alpha_post, beta_post)\n",
    "}\n",
    "\n",
    "post_values = posterior(lambda)\n",
    "post_df = data.frame(lambda=lambda, post_values=post_values)\n",
    "\n",
    "ggplot(post_df, aes(x=lambda, y=post_values)) + \n",
    "    geom_col(color=\"skyblue\") +\n",
    "    labs(x=expression(lambda), \n",
    "         y=\"Density\", \n",
    "         title=\"Posterior Distribution\") + \n",
    "    theme(\n",
    "        text = element_text(size=12),\n",
    "        axis.title.x = element_text(face=\"bold\", size=12),\n",
    "        axis.title.y = element_text(face=\"bold\", size=12),\n",
    "        axis.text = element_text(color=\"black\"),\n",
    "        axis.ticks = element_line(color=\"black\"),\n",
    "        plot.title = element_text(hjust=0.5, face=\"bold\", size=14),\n",
    "        panel.background = element_rect(fill = \"white\", color = \"black\"),\n",
    "        panel.grid.major = element_line(linewidth=0.25, linetype='solid', color=\"grey80\"),\n",
    "        panel.grid.minor = element_line(linewidth=0.25, linetype='solid', color=\"grey80\"))\n",
    "\n",
    "post_mean = alpha_post / beta_post\n",
    "post_median = qgamma(0.5, alpha_post, beta_post)\n",
    "post_variance = alpha_post / (beta_post^2)\n",
    "ci = qgamma(c(0.025, 0.975), alpha_post, beta_post)\n",
    "\n",
    "results = data.frame(\n",
    "  Statistic = c(\"Posterior Mean\", \"Posterior Median\", \"Posterior Variance\", \"95% Credibility Interval\"),\n",
    "  Value = c(round(post_mean,4), round(post_median,4), round(post_variance,4),  \n",
    "            paste0(\"(\", round(ci[1], 4), \", \", round(ci[2], 4), \")\"))\n",
    ")\n",
    "\n",
    "kable(results, col.names = c(\"Statistic\", \"Value\"))"
   ]
  },
  {
   "cell_type": "markdown",
   "id": "1bf4edfb-e83b-45c4-8e73-7396edd67b1f",
   "metadata": {},
   "source": [
    "b) assuming now a Je\u000b",
    "reys' prior,\n",
    "\n",
    "$g(\\lambda) \\propto \\frac{1}{\\sqrt{\\lambda}}, \\quad \\lambda > 0$\n",
    "\n",
    "compute and plot the posterior distribution for $\\lambda$, the death rate over the measurement time.\r\n",
    "Determine the posterior mean, median and variance, and compute the 95% credibility interval0"
   ]
  },
  {
   "cell_type": "code",
   "execution_count": 3,
   "id": "72931892-0d2d-4ca9-b244-7999f6e1cfe8",
   "metadata": {},
   "outputs": [
    {
     "data": {
      "text/plain": [
       "\n",
       "\n",
       "|Statistic                |Value            |\n",
       "|:------------------------|:----------------|\n",
       "|Posterior Mean           |0.6635           |\n",
       "|Posterior Median         |0.6628           |\n",
       "|Posterior Variance       |0.0014           |\n",
       "|95% Credibility Interval |(0.5927, 0.7384) |"
      ]
     },
     "metadata": {},
     "output_type": "display_data"
    },
    {
     "data": {
      "image/png": "[encoded data removed]",
      "text/plain": [
       "plot without title"
      ]
     },
     "metadata": {
      "image/png": {
       "height": 420,
       "width": 420
      }
     },
     "output_type": "display_data"
    }
   ],
   "source": [
    "#poisson data distribution, jeffrey's prior (gamma(1/2,0))  --> gamma posterior again\n",
    "\n",
    "alpha_prior <- 1/2\n",
    "beta_prior <- 0\n",
    "\n",
    "alpha_post = alpha_prior + deaths\n",
    "beta_post = beta_prior + total\n",
    "\n",
    "n = 100\n",
    "lambda = seq(0, 1, length=n)\n",
    "\n",
    "posterior = function(lambda) {\n",
    "    dgamma(lambda, alpha_post, beta_post)\n",
    "}\n",
    "\n",
    "post_values = posterior(lambda)\n",
    "post_df = data.frame(lambda=lambda, post_values=post_values)\n",
    "\n",
    "ggplot(post_df, aes(x=lambda, y=post_values)) + \n",
    "    geom_col(color=\"black\", fill=\"skyblue\") +\n",
    "    labs(x=expression(lambda), \n",
    "         y=\"Density\", \n",
    "         title=\"Posterior Distribution\") + \n",
    "    theme(\n",
    "        text = element_text(size=12),\n",
    "        axis.title.x = element_text(face=\"bold\", size=12),\n",
    "        axis.title.y = element_text(face=\"bold\", size=12),\n",
    "        axis.text = element_text(color=\"black\"),\n",
    "        axis.ticks = element_line(color=\"black\"),\n",
    "        plot.title = element_text(hjust=0.5, face=\"bold\", size=14),\n",
    "        panel.background = element_rect(fill = \"white\", color = \"black\"),\n",
    "        panel.grid.major = element_line(linewidth=0.25, linetype='solid', color=\"grey80\"),\n",
    "        panel.grid.minor = element_line(linewidth=0.25, linetype='solid', color=\"grey80\"))\n",
    "\n",
    "post_mean = alpha_post / beta_post\n",
    "post_median = qgamma(0.5, alpha_post, beta_post)\n",
    "post_variance = alpha_post / (beta_post^2)\n",
    "ci = qgamma(c(0.025, 0.975), alpha_post, beta_post)\n",
    "\n",
    "results = data.frame(\n",
    "    Statistic = c(\"Posterior Mean\", \"Posterior Median\", \"Posterior Variance\", \"95% Credibility Interval\"),\n",
    "    Value = c(round(post_mean,4), round(post_median,4), round(post_variance,4),  \n",
    "              paste0(\"(\", round(ci[1], 4), \", \", round(ci[2], 4), \")\"))\n",
    ")\n",
    "\n",
    "kable(results, col.names = c(\"Statistic\", \"Value\"))"
   ]
  },
  {
   "cell_type": "markdown",
   "id": "bf53f9a2-ee9d-4443-8cd4-bb9d53456719",
   "metadata": {},
   "source": [
    "### Exercise 2"
   ]
  },
  {
   "cell_type": "markdown",
   "id": "cb8e8632-6e16-4a72-b70a-89ea70c1ad66",
   "metadata": {},
   "source": [
    "Solve Exercise 1 using a Markov Chain Monte Carlo using stan."
   ]
  },
  {
   "cell_type": "code",
   "execution_count": 4,
   "id": "a112e52e-45de-4564-b762-2195585ce600",
   "metadata": {},
   "outputs": [
    {
     "name": "stdout",
     "output_type": "stream",
     "text": [
      "\n",
      "SAMPLING FOR MODEL 'anon_model' NOW (CHAIN 1).\n",
      "Chain 1: \n",
      "Chain 1: Gradient evaluation took 8e-06 seconds\n",
      "Chain 1: 1000 transitions using 10 leapfrog steps per transition would take 0.08 seconds.\n",
      "Chain 1: Adjust your expectations accordingly!\n",
      "Chain 1: \n",
      "Chain 1: \n",
      "Chain 1: Iteration:    1 / 2000 [  0%]  (Warmup)\n",
      "Chain 1: Iteration:  200 / 2000 [ 10%]  (Warmup)\n",
      "Chain 1: Iteration:  400 / 2000 [ 20%]  (Warmup)\n",
      "Chain 1: Iteration:  600 / 2000 [ 30%]  (Warmup)\n",
      "Chain 1: Iteration:  800 / 2000 [ 40%]  (Warmup)\n",
      "Chain 1: Iteration: 1000 / 2000 [ 50%]  (Warmup)\n",
      "Chain 1: Iteration: 1001 / 2000 [ 50%]  (Sampling)\n",
      "Chain 1: Iteration: 1200 / 2000 [ 60%]  (Sampling)\n",
      "Chain 1: Iteration: 1400 / 2000 [ 70%]  (Sampling)\n",
      "Chain 1: Iteration: 1600 / 2000 [ 80%]  (Sampling)\n",
      "Chain 1: Iteration: 1800 / 2000 [ 90%]  (Sampling)\n",
      "Chain 1: Iteration: 2000 / 2000 [100%]  (Sampling)\n",
      "Chain 1: \n",
      "Chain 1:  Elapsed Time: 0.017 seconds (Warm-up)\n",
      "Chain 1:                0.017 seconds (Sampling)\n",
      "Chain 1:                0.034 seconds (Total)\n",
      "Chain 1: \n",
      "\n",
      "SAMPLING FOR MODEL 'anon_model' NOW (CHAIN 2).\n",
      "Chain 2: \n",
      "Chain 2: Gradient evaluation took 4e-06 seconds\n",
      "Chain 2: 1000 transitions using 10 leapfrog steps per transition would take 0.04 seconds.\n",
      "Chain 2: Adjust your expectations accordingly!\n",
      "Chain 2: \n",
      "Chain 2: \n",
      "Chain 2: Iteration:    1 / 2000 [  0%]  (Warmup)\n",
      "Chain 2: Iteration:  200 / 2000 [ 10%]  (Warmup)\n",
      "Chain 2: Iteration:  400 / 2000 [ 20%]  (Warmup)\n",
      "Chain 2: Iteration:  600 / 2000 [ 30%]  (Warmup)\n",
      "Chain 2: Iteration:  800 / 2000 [ 40%]  (Warmup)\n",
      "Chain 2: Iteration: 1000 / 2000 [ 50%]  (Warmup)\n",
      "Chain 2: Iteration: 1001 / 2000 [ 50%]  (Sampling)\n",
      "Chain 2: Iteration: 1200 / 2000 [ 60%]  (Sampling)\n",
      "Chain 2: Iteration: 1400 / 2000 [ 70%]  (Sampling)\n",
      "Chain 2: Iteration: 1600 / 2000 [ 80%]  (Sampling)\n",
      "Chain 2: Iteration: 1800 / 2000 [ 90%]  (Sampling)\n",
      "Chain 2: Iteration: 2000 / 2000 [100%]  (Sampling)\n",
      "Chain 2: \n",
      "Chain 2:  Elapsed Time: 0.018 seconds (Warm-up)\n",
      "Chain 2:                0.016 seconds (Sampling)\n",
      "Chain 2:                0.034 seconds (Total)\n",
      "Chain 2: \n",
      "\n",
      "SAMPLING FOR MODEL 'anon_model' NOW (CHAIN 3).\n",
      "Chain 3: \n",
      "Chain 3: Gradient evaluation took 4e-06 seconds\n",
      "Chain 3: 1000 transitions using 10 leapfrog steps per transition would take 0.04 seconds.\n",
      "Chain 3: Adjust your expectations accordingly!\n",
      "Chain 3: \n",
      "Chain 3: \n",
      "Chain 3: Iteration:    1 / 2000 [  0%]  (Warmup)\n",
      "Chain 3: Iteration:  200 / 2000 [ 10%]  (Warmup)\n",
      "Chain 3: Iteration:  400 / 2000 [ 20%]  (Warmup)\n",
      "Chain 3: Iteration:  600 / 2000 [ 30%]  (Warmup)\n",
      "Chain 3: Iteration:  800 / 2000 [ 40%]  (Warmup)\n",
      "Chain 3: Iteration: 1000 / 2000 [ 50%]  (Warmup)\n",
      "Chain 3: Iteration: 1001 / 2000 [ 50%]  (Sampling)\n",
      "Chain 3: Iteration: 1200 / 2000 [ 60%]  (Sampling)\n",
      "Chain 3: Iteration: 1400 / 2000 [ 70%]  (Sampling)\n",
      "Chain 3: Iteration: 1600 / 2000 [ 80%]  (Sampling)\n",
      "Chain 3: Iteration: 1800 / 2000 [ 90%]  (Sampling)\n",
      "Chain 3: Iteration: 2000 / 2000 [100%]  (Sampling)\n",
      "Chain 3: \n",
      "Chain 3:  Elapsed Time: 0.017 seconds (Warm-up)\n",
      "Chain 3:                0.017 seconds (Sampling)\n",
      "Chain 3:                0.034 seconds (Total)\n",
      "Chain 3: \n",
      "\n",
      "SAMPLING FOR MODEL 'anon_model' NOW (CHAIN 4).\n",
      "Chain 4: \n",
      "Chain 4: Gradient evaluation took 4e-06 seconds\n",
      "Chain 4: 1000 transitions using 10 leapfrog steps per transition would take 0.04 seconds.\n",
      "Chain 4: Adjust your expectations accordingly!\n",
      "Chain 4: \n",
      "Chain 4: \n",
      "Chain 4: Iteration:    1 / 2000 [  0%]  (Warmup)\n",
      "Chain 4: Iteration:  200 / 2000 [ 10%]  (Warmup)\n",
      "Chain 4: Iteration:  400 / 2000 [ 20%]  (Warmup)\n",
      "Chain 4: Iteration:  600 / 2000 [ 30%]  (Warmup)\n",
      "Chain 4: Iteration:  800 / 2000 [ 40%]  (Warmup)\n",
      "Chain 4: Iteration: 1000 / 2000 [ 50%]  (Warmup)\n",
      "Chain 4: Iteration: 1001 / 2000 [ 50%]  (Sampling)\n",
      "Chain 4: Iteration: 1200 / 2000 [ 60%]  (Sampling)\n",
      "Chain 4: Iteration: 1400 / 2000 [ 70%]  (Sampling)\n",
      "Chain 4: Iteration: 1600 / 2000 [ 80%]  (Sampling)\n",
      "Chain 4: Iteration: 1800 / 2000 [ 90%]  (Sampling)\n",
      "Chain 4: Iteration: 2000 / 2000 [100%]  (Sampling)\n",
      "Chain 4: \n",
      "Chain 4:  Elapsed Time: 0.017 seconds (Warm-up)\n",
      "Chain 4:                0.016 seconds (Sampling)\n",
      "Chain 4:                0.033 seconds (Total)\n",
      "Chain 4: \n"
     ]
    },
    {
     "data": {
      "text/plain": [
       "\n",
       "\n",
       "|Statistic                |Value            |\n",
       "|:------------------------|:----------------|\n",
       "|Posterior Mean           |0.6644           |\n",
       "|Posterior Median         |0.6628           |\n",
       "|Posterior Variance       |0.0014           |\n",
       "|95% Credibility Interval |(0.5968, 0.7393) |"
      ]
     },
     "metadata": {},
     "output_type": "display_data"
    },
    {
     "data": {
      "image/png": "[encoded data removed]",
      "text/plain": [
       "plot without title"
      ]
     },
     "metadata": {
      "image/png": {
       "height": 420,
       "width": 420
      }
     },
     "output_type": "display_data"
    }
   ],
   "source": [
    "stan_model_code = \"\n",
    "data {\n",
    "  int<lower=0> N1;\n",
    "  int<lower=0> N2;\n",
    "  int y1[N1];\n",
    "  int y2[N2];\n",
    "}\n",
    "parameters {\n",
    "  real<lower=0> lambda;\n",
    "}\n",
    "model {\n",
    "  target += -0.5 * log(lambda); // Jeffrey's prior\n",
    "  y1 ~ poisson(lambda);\n",
    "  y2 ~ poisson(lambda);\n",
    "}\n",
    "\"\n",
    "\n",
    "y1 = rep(0:5, times=c(109, 65, 22, 3, 1, 0))\n",
    "y2 = rep(0:5, times=c(144, 91, 32, 11, 2, 0))\n",
    "stan_data = list(N1=length(y1), N2=length(y2), y1=y1, y2=y2)\n",
    "\n",
    "stan_fit = stan(model_code=stan_model_code, data=stan_data, iter=2000, chains=4)\n",
    "posterior_samples = extract(stan_fit)\n",
    "\n",
    "posterior_mean = mean(posterior_samples$lambda)\n",
    "posterior_median = median(posterior_samples$lambda)\n",
    "posterior_variance = var(posterior_samples$lambda)\n",
    "ci = quantile(posterior_samples$lambda, probs = c(0.025, 0.975))\n",
    "\n",
    "results = data.frame(\n",
    "  Statistic = c(\"Posterior Mean\", \"Posterior Median\", \"Posterior Variance\", \"95% Credibility Interval\"),\n",
    "  Value = c(round(posterior_mean, 4), round(posterior_median, 4), round(posterior_variance, 4),  \n",
    "            paste0(\"(\", round(ci[1], 4), \", \", round(ci[2], 4), \")\"))\n",
    ")\n",
    "\n",
    "kable(results, col.names=c(\"Statistic\", \"Value\"))\n",
    "\n",
    "posterior_df = data.frame(lambda=posterior_samples$lambda)\n",
    "ggplot(posterior_df, aes(x=lambda)) +\n",
    "  geom_histogram(aes(y=after_stat(density)), bins=30, fill=\"skyblue\", color=\"black\") +\n",
    "  labs(x=expression(lambda), \n",
    "       y=\"Density\", \n",
    "       title=\"Posterior Distribution using MCMC with Stan\") + \n",
    "  theme(\n",
    "    text = element_text(size=12),\n",
    "    axis.title.x = element_text(face=\"bold\", size=12),\n",
    "    axis.title.y = element_text(face=\"bold\", size=12),\n",
    "    axis.text = element_text(color=\"black\"),\n",
    "    axis.ticks = element_line(color=\"black\"),\n",
    "    plot.title = element_text(hjust=0.5, face=\"bold\", size=14),\n",
    "    panel.background = element_rect(fill=\"white\", color=\"black\"),\n",
    "    panel.grid.major = element_line(linewidth=0.25, linetype='solid', color=\"grey80\"),\n",
    "    panel.grid.minor = element_line(linewidth=0.25, linetype='solid', color=\"grey80\"))"
   ]
  },
  {
   "cell_type": "markdown",
   "id": "7ab39ab7-7d40-49b3-a06a-53df4578b18d",
   "metadata": {},
   "source": [
    "### Exercise 3"
   ]
  },
  {
   "cell_type": "markdown",
   "id": "7c9d1b26-b800-478d-be58-11d8d061b5d4",
   "metadata": {},
   "source": [
    "A study on water quality of streams, a high level of bacter X was de\f",
    "ned as a level greater than 100 per 100 ml of stream water. n = 116 samples were taken from streams having a high environmental impact on pandas. Out of these, y = 11 had a high bacter X level.\n",
    "Indicating with p the probability that a sample of water taken from the stream has a high bacter \n",
    "X level,"
   ]
  },
  {
   "cell_type": "markdown",
   "id": "8dc76076-e6c1-4eed-91ce-5d043a99ed23",
   "metadata": {},
   "source": [
    "\f",
    "a) Find the frequentist estimator for p"
   ]
  },
  {
   "cell_type": "code",
   "execution_count": 5,
   "id": "d09197d0-1d34-4969-9780-f1cdef7a4b24",
   "metadata": {},
   "outputs": [
    {
     "name": "stdout",
     "output_type": "stream",
     "text": [
      "The frequentist estimator for the probability of finding water samples containing high bacteria is: 10.55"
     ]
    }
   ],
   "source": [
    "n = 116\n",
    "y = 11\n",
    "p = n/y\n",
    "cat(\"The frequentist estimator for the probability of finding water samples containing high bacteria is:\", round(p, 2))"
   ]
  },
  {
   "cell_type": "markdown",
   "id": "f22bf476-3bda-4a0a-8c05-89eb0edf0c73",
   "metadata": {},
   "source": [
    "b) Using a Beta(1; 10) prior for p, calculate and posterior distribution $P(p \\mid y)$"
   ]
  },
  {
   "cell_type": "code",
   "execution_count": 6,
   "id": "bda74e59-885b-4427-a33c-028d954f1413",
   "metadata": {},
   "outputs": [
    {
     "data": {
      "image/png": "[encoded data removed]",
      "text/plain": [
       "plot without title"
      ]
     },
     "metadata": {
      "image/png": {
       "height": 420,
       "width": 420
      }
     },
     "output_type": "display_data"
    }
   ],
   "source": [
    "alpha_prior = 1\n",
    "beta_prior = 10\n",
    "\n",
    "alpha_post = alpha_prior + y\n",
    "beta_post = beta_prior + n - y\n",
    "\n",
    "x = seq(0, 0.25, length=50)\n",
    "posterior = dbeta(x, alpha_post, beta_post)\n",
    "post_df = data.frame(x=x, posterior=posterior)\n",
    "\n",
    "ggplot(post_df, aes(x=x, y=posterior)) + \n",
    "    geom_col(fill=\"skyblue\", color=\"black\") +\n",
    "    labs(x=\"Measurements\", \n",
    "         y=\"Density\", \n",
    "         title=\"Posterior Distribution\") + \n",
    "    theme(\n",
    "        text = element_text(size=12),\n",
    "        axis.title.x = element_text(face=\"bold\", size=12),\n",
    "        axis.title.y = element_text(face=\"bold\", size=12),\n",
    "        axis.text = element_text(color=\"black\"),\n",
    "        axis.ticks = element_line(color=\"black\"),\n",
    "        plot.title = element_text(hjust=0.5, face=\"bold\", size=14),\n",
    "        panel.background = element_rect(fill = \"white\", color = \"black\"),\n",
    "        panel.grid.major = element_line(linewidth=0.25, linetype='solid', color=\"grey80\"),\n",
    "        panel.grid.minor = element_line(linewidth=0.25, linetype='solid', color=\"grey80\"))"
   ]
  },
  {
   "cell_type": "markdown",
   "id": "30b05c59-aa36-47bc-99d2-d3b7ce7bc8e7",
   "metadata": {},
   "source": [
    "c) Fi\f",
    "nd the bayesian estimator for p, the posterior mean and variance, and a 95% credible interval"
   ]
  },
  {
   "cell_type": "code",
   "execution_count": 7,
   "id": "0c893334-2571-41dd-9e1a-f7ead70bc7d1",
   "metadata": {},
   "outputs": [
    {
     "data": {
      "text/plain": [
       "\n",
       "\n",
       "|Statistic            |Value            |\n",
       "|:--------------------|:----------------|\n",
       "|Posterior Mean       |0.0945           |\n",
       "|Posterior Variance   |1e-04            |\n",
       "|Credibility Interval |(0.0502, 0.1508) |"
      ]
     },
     "metadata": {},
     "output_type": "display_data"
    }
   ],
   "source": [
    "post_mean = alpha_post / (alpha_post + beta_post)\n",
    "post_var = (alpha_post + beta_post) / ((alpha_post + beta_post)^2 * (alpha_post + beta_post + 1))\n",
    "ci = qbeta(c(0.025, 0.975), alpha_post, beta_post)\n",
    "\n",
    "results = data.frame(\n",
    "    Statistic = c(\"Posterior Mean\", \"Posterior Variance\", \"Credibility Interval\"),\n",
    "    Value = c(round(post_mean, 4), round(post_var, 4), paste0(\"(\", round(ci[1], 4), \", \", round(ci[2], 4), \")\")))\n",
    "\n",
    "kable(results, col.names = c(\"Statistic\", \"Value\"))"
   ]
  },
  {
   "cell_type": "markdown",
   "id": "71fef4b4-e131-4659-893d-5636a3b30050",
   "metadata": {},
   "source": [
    "d) Test the hypotesis:\n",
    "\n",
    "$H_0 : p = 0.1 \\text{ versus } H1 : p \\neq 0.1$\n",
    "\n",
    "at 5% level of signi\f",
    "cance with both the frequentist and bayesian approach."
   ]
  },
  {
   "cell_type": "code",
   "execution_count": 8,
   "id": "3f7145ab-df67-42ea-bfcd-64003496c1c6",
   "metadata": {},
   "outputs": [
    {
     "name": "stdout",
     "output_type": "stream",
     "text": [
      "\n",
      "\tExact binomial test\n",
      "\n",
      "data:  y and n\n",
      "number of successes = 11, number of trials = 116, p-value = 1\n",
      "alternative hypothesis: true probability of success is not equal to 0.1\n",
      "95 percent confidence interval:\n",
      " 0.04829409 0.16333954\n",
      "sample estimates:\n",
      "probability of success \n",
      "            0.09482759 \n",
      "\n"
     ]
    }
   ],
   "source": [
    "p0 = 0.1\n",
    "#i'll do a binomial test\n",
    "binomial_test = binom.test(y, n, p=p0, alternative=\"two.sided\")\n",
    "\n",
    "print(binomial_test)"
   ]
  },
  {
   "cell_type": "code",
   "execution_count": 9,
   "id": "8d987350-2902-47c8-9f4b-fc8ea88ba9b9",
   "metadata": {},
   "outputs": [
    {
     "name": "stdout",
     "output_type": "stream",
     "text": [
      "Prior density at p = 0.1: 3.874205 \n",
      "Posterior density at p = 0.1: 14.19694 \n",
      "Approximate Bayes factor: 3.664479 \n"
     ]
    }
   ],
   "source": [
    "prior = dbeta(0.1, alpha_prior, beta_prior)\n",
    "posterior = dbeta(0.1, alpha_post, beta_post)\n",
    "bayes_factor = posterior / prior\n",
    "\n",
    "cat(\"Prior density at p = 0.1:\", prior, \"\\n\")\n",
    "cat(\"Posterior density at p = 0.1:\", posterior, \"\\n\")\n",
    "cat(\"Approximate Bayes factor:\", bayes_factor, \"\\n\")"
   ]
  },
  {
   "cell_type": "markdown",
   "id": "f11e0dac-17bb-4951-af2e-cc67f389e3d8",
   "metadata": {},
   "source": [
    "A new measurement, performed one month later on n = 165 water samples, gives y = 9 high bacter X level.\n",
    "\n",
    "e) Find the frequentist estimator for p"
   ]
  },
  {
   "cell_type": "code",
   "execution_count": 10,
   "id": "750d479a-8034-4f37-8510-416e55ad6615",
   "metadata": {},
   "outputs": [
    {
     "name": "stdout",
     "output_type": "stream",
     "text": [
      "The new frequentist estimator for the probability of finding water samples containing high bacteria is: 0.05"
     ]
    }
   ],
   "source": [
    "y_new = 9\n",
    "n_new = 165\n",
    "p_new = y_new/n_new\n",
    "cat(\"The new frequentist estimator for the probability of finding water samples containing high bacteria is:\", round(p_new, 2))"
   ]
  },
  {
   "cell_type": "markdown",
   "id": "17deffc1-13d9-46a7-84a4-5e0586933d67",
   "metadata": {},
   "source": [
    "f) Find a bayesian estimator for p , assuming both a Beta(1,19) prior for p, and assuming the posterior probability of the older measurement as the prior for the new one."
   ]
  },
  {
   "cell_type": "code",
   "execution_count": 11,
   "id": "d4d36b7e-74cd-46be-a062-c33309bd4f7c",
   "metadata": {},
   "outputs": [
    {
     "name": "stdout",
     "output_type": "stream",
     "text": [
      "Posterior mean with Beta(1,19) prior: 0.0541 \n",
      "Posterior mean with previous Posterior as Prior: 0.0719 \n"
     ]
    }
   ],
   "source": [
    "alpha_prior_1 = 1\n",
    "beta_prior_1 = 19\n",
    "\n",
    "alpha_post_1 = alpha_prior_1 + y_new\n",
    "beta_post_1 = beta_prior_1 + n_new - y_new\n",
    "\n",
    "post_mean_1 = alpha_post_1 / (alpha_post_1 + beta_post_1)\n",
    "cat(\"Posterior mean with Beta(1,19) prior:\", round(post_mean_1,4), \"\\n\")\n",
    "\n",
    "alpha_post_2 = alpha_post + y_new\n",
    "beta_post_2 = beta_post + n_new - y_new\n",
    "\n",
    "post_mean_2 <- alpha_post_2 / (alpha_post_2 + beta_post_2)\n",
    "cat(\"Posterior mean with previous Posterior as Prior:\", round(post_mean_2,4), \"\\n\")"
   ]
  },
  {
   "cell_type": "markdown",
   "id": "73396558-38ce-40ce-aacb-db9d29359fde",
   "metadata": {},
   "source": [
    "g) Find the bayesian estimator for p, the posterior mean and variance, and a 95% credible interval."
   ]
  },
  {
   "cell_type": "code",
   "execution_count": 16,
   "id": "5a8b6551-e645-4f05-8692-4368beaf54d1",
   "metadata": {},
   "outputs": [
    {
     "data": {
      "text/plain": [
       "\n",
       "\n",
       "|Statistic                              |Value            |\n",
       "|:--------------------------------------|:----------------|\n",
       "|Posterior Mean (Beta Prior)            |0.0541           |\n",
       "|Posterior Variance (Beta Prior)        |2.9e-05          |\n",
       "|Credibility Interval (Beta Prior)      |(0.0264, 0.0908) |\n",
       "|Posterior Mean (Posterior Prior)       |0.0719           |\n",
       "|Posterior Variance (Posterior Prior)   |1.2e-05          |\n",
       "|Credibility Interval (Posterior Prior) |(0.0452, 0.1042) |"
      ]
     },
     "metadata": {},
     "output_type": "display_data"
    }
   ],
   "source": [
    "post_var_1 = (alpha_post_1 + beta_post_1) / ((alpha_post_1 + beta_post_1)^2 * (alpha_post_1 + beta_post_1 + 1))\n",
    "post_var_2 = (alpha_post_2 + beta_post_2) / ((alpha_post_2 + beta_post_2)^2 * (alpha_post_2 + beta_post_2 + 1))\n",
    "ci_1 = qbeta(c(0.025, 0.975), alpha_post_1, beta_post_1)\n",
    "ci_2 = qbeta(c(0.025, 0.975), alpha_post_2, beta_post_2)\n",
    "\n",
    "results = data.frame(\n",
    "    Statistic = c(\"Posterior Mean (Beta Prior)\", \"Posterior Variance (Beta Prior)\", \"Credibility Interval (Beta Prior)\",\n",
    "                  \"Posterior Mean (Posterior Prior)\", \"Posterior Variance (Posterior Prior)\", \"Credibility Interval (Posterior Prior)\"),\n",
    "    Value = c(round(post_mean_1, 4), round(post_var_1, 6), paste0(\"(\", round(ci_1[1], 4), \", \", round(ci_1[2], 4), \")\"),\n",
    "              round(post_mean_2, 4), round(post_var_2, 6), paste0(\"(\", round(ci_2[1], 4), \", \", round(ci_2[2], 4), \")\"))\n",
    ")\n",
    "\n",
    "kable(results, col.names = c(\"Statistic\", \"Value\"))"
   ]
  },
  {
   "cell_type": "markdown",
   "id": "a4fa5df7-60f4-484c-bfb1-722c96d49c04",
   "metadata": {},
   "source": [
    "Test the hypotesis:\n",
    "\n",
    "$H_0 : p = 0.1 \\text{ versus } H1 : p \\neq 0.1$\n",
    "\n",
    "at 5% level of significance with both the frequentist and bayesian approach."
   ]
  },
  {
   "cell_type": "code",
   "execution_count": 18,
   "id": "25485a4f-a774-48c5-a44a-a509cd063230",
   "metadata": {},
   "outputs": [
    {
     "name": "stdout",
     "output_type": "stream",
     "text": [
      "\n",
      "\tExact binomial test\n",
      "\n",
      "data:  y and n\n",
      "number of successes = 11, number of trials = 116, p-value = 1\n",
      "alternative hypothesis: true probability of success is not equal to 0.1\n",
      "95 percent confidence interval:\n",
      " 0.04829409 0.16333954\n",
      "sample estimates:\n",
      "probability of success \n",
      "            0.09482759 \n",
      "\n"
     ]
    }
   ],
   "source": [
    "binom_test_new = binom.test(y_new, n_new, p=p0, alternative=\"two.sided\")\n",
    "print(binomial_test)"
   ]
  },
  {
   "cell_type": "code",
   "execution_count": 22,
   "id": "77e3145a-08c5-40a4-ac53-ce247aca87a6",
   "metadata": {},
   "outputs": [
    {
     "name": "stdout",
     "output_type": "stream",
     "text": [
      "Prior density with Beta(1,19) prior at p = 0.1: 2.851798 \n",
      "Posterior density with Beta(1,19) prior at p = 0.1: 1.043571 \n",
      "Approximate Bayes factor with Beta(1,19) prior: 0.3659344 \n",
      " \n",
      "Prior density using previous posterior at p = 0.1: 14.19694 \n",
      "Posterior density using previous posterior at p = 0.1: 4.787042 \n",
      "Approximate Bayes factor using previous posterior: 0.3371882 \n"
     ]
    }
   ],
   "source": [
    "prior_1 = dbeta(0.1, alpha_prior_1, beta_prior_1)\n",
    "post_1 = dbeta(0.1, alpha_post_1, beta_post_1)\n",
    "\n",
    "bayes_factor_1 = post_1 / prior_1\n",
    "\n",
    "cat(\"Prior density with Beta(1,19) prior at p = 0.1:\", prior_1, \"\\n\")\n",
    "cat(\"Posterior density with Beta(1,19) prior at p = 0.1:\", post_1, \"\\n\")\n",
    "cat(\"Approximate Bayes factor with Beta(1,19) prior:\", bayes_factor_1, \"\\n\", \"\\n\")\n",
    "\n",
    "prior_2 = dbeta(0.1, alpha_post, beta_post)\n",
    "post_2 = dbeta(0.1, alpha_post_2, beta_post_2)\n",
    "\n",
    "bayes_factor_2 = post_2 / prior_2\n",
    "\n",
    "cat(\"Prior density using previous posterior at p = 0.1:\", prior_2, \"\\n\")\n",
    "cat(\"Posterior density using previous posterior at p = 0.1:\", post_2, \"\\n\")\n",
    "cat(\"Approximate Bayes factor using previous posterior:\", bayes_factor_2, \"\\n\")"
   ]
  },
  {
   "cell_type": "markdown",
   "id": "8fd4e5e8-00e7-4e60-bb05-11f50f318f56",
   "metadata": {},
   "source": [
    "### Exercise 4"
   ]
  },
  {
   "cell_type": "markdown",
   "id": "649c3b1a-8d74-482a-b55d-beec82d6e1e7",
   "metadata": {},
   "source": [
    "Analyze the data of Exercise 3 and solve points b) and c) using a MCMC using stan."
   ]
  },
  {
   "cell_type": "code",
   "execution_count": 23,
   "id": "b06cfa4b-ed64-4950-a26a-a53fb08afeb0",
   "metadata": {},
   "outputs": [
    {
     "name": "stdout",
     "output_type": "stream",
     "text": [
      "\n",
      "SAMPLING FOR MODEL 'anon_model' NOW (CHAIN 1).\n",
      "Chain 1: \n",
      "Chain 1: Gradient evaluation took 4e-06 seconds\n",
      "Chain 1: 1000 transitions using 10 leapfrog steps per transition would take 0.04 seconds.\n",
      "Chain 1: Adjust your expectations accordingly!\n",
      "Chain 1: \n",
      "Chain 1: \n",
      "Chain 1: Iteration:    1 / 2000 [  0%]  (Warmup)\n",
      "Chain 1: Iteration:  200 / 2000 [ 10%]  (Warmup)\n",
      "Chain 1: Iteration:  400 / 2000 [ 20%]  (Warmup)\n",
      "Chain 1: Iteration:  600 / 2000 [ 30%]  (Warmup)\n",
      "Chain 1: Iteration:  800 / 2000 [ 40%]  (Warmup)\n",
      "Chain 1: Iteration: 1000 / 2000 [ 50%]  (Warmup)\n",
      "Chain 1: Iteration: 1001 / 2000 [ 50%]  (Sampling)\n",
      "Chain 1: Iteration: 1200 / 2000 [ 60%]  (Sampling)\n",
      "Chain 1: Iteration: 1400 / 2000 [ 70%]  (Sampling)\n",
      "Chain 1: Iteration: 1600 / 2000 [ 80%]  (Sampling)\n",
      "Chain 1: Iteration: 1800 / 2000 [ 90%]  (Sampling)\n",
      "Chain 1: Iteration: 2000 / 2000 [100%]  (Sampling)\n",
      "Chain 1: \n",
      "Chain 1:  Elapsed Time: 0.004 seconds (Warm-up)\n",
      "Chain 1:                0.004 seconds (Sampling)\n",
      "Chain 1:                0.008 seconds (Total)\n",
      "Chain 1: \n",
      "\n",
      "SAMPLING FOR MODEL 'anon_model' NOW (CHAIN 2).\n",
      "Chain 2: \n",
      "Chain 2: Gradient evaluation took 1e-06 seconds\n",
      "Chain 2: 1000 transitions using 10 leapfrog steps per transition would take 0.01 seconds.\n",
      "Chain 2: Adjust your expectations accordingly!\n",
      "Chain 2: \n",
      "Chain 2: \n",
      "Chain 2: Iteration:    1 / 2000 [  0%]  (Warmup)\n",
      "Chain 2: Iteration:  200 / 2000 [ 10%]  (Warmup)\n",
      "Chain 2: Iteration:  400 / 2000 [ 20%]  (Warmup)\n",
      "Chain 2: Iteration:  600 / 2000 [ 30%]  (Warmup)\n",
      "Chain 2: Iteration:  800 / 2000 [ 40%]  (Warmup)\n",
      "Chain 2: Iteration: 1000 / 2000 [ 50%]  (Warmup)\n",
      "Chain 2: Iteration: 1001 / 2000 [ 50%]  (Sampling)\n",
      "Chain 2: Iteration: 1200 / 2000 [ 60%]  (Sampling)\n",
      "Chain 2: Iteration: 1400 / 2000 [ 70%]  (Sampling)\n",
      "Chain 2: Iteration: 1600 / 2000 [ 80%]  (Sampling)\n",
      "Chain 2: Iteration: 1800 / 2000 [ 90%]  (Sampling)\n",
      "Chain 2: Iteration: 2000 / 2000 [100%]  (Sampling)\n",
      "Chain 2: \n",
      "Chain 2:  Elapsed Time: 0.004 seconds (Warm-up)\n",
      "Chain 2:                0.004 seconds (Sampling)\n",
      "Chain 2:                0.008 seconds (Total)\n",
      "Chain 2: \n",
      "\n",
      "SAMPLING FOR MODEL 'anon_model' NOW (CHAIN 3).\n",
      "Chain 3: \n",
      "Chain 3: Gradient evaluation took 1e-06 seconds\n",
      "Chain 3: 1000 transitions using 10 leapfrog steps per transition would take 0.01 seconds.\n",
      "Chain 3: Adjust your expectations accordingly!\n",
      "Chain 3: \n",
      "Chain 3: \n",
      "Chain 3: Iteration:    1 / 2000 [  0%]  (Warmup)\n",
      "Chain 3: Iteration:  200 / 2000 [ 10%]  (Warmup)\n",
      "Chain 3: Iteration:  400 / 2000 [ 20%]  (Warmup)\n",
      "Chain 3: Iteration:  600 / 2000 [ 30%]  (Warmup)\n",
      "Chain 3: Iteration:  800 / 2000 [ 40%]  (Warmup)\n",
      "Chain 3: Iteration: 1000 / 2000 [ 50%]  (Warmup)\n",
      "Chain 3: Iteration: 1001 / 2000 [ 50%]  (Sampling)\n",
      "Chain 3: Iteration: 1200 / 2000 [ 60%]  (Sampling)\n",
      "Chain 3: Iteration: 1400 / 2000 [ 70%]  (Sampling)\n",
      "Chain 3: Iteration: 1600 / 2000 [ 80%]  (Sampling)\n",
      "Chain 3: Iteration: 1800 / 2000 [ 90%]  (Sampling)\n",
      "Chain 3: Iteration: 2000 / 2000 [100%]  (Sampling)\n",
      "Chain 3: \n",
      "Chain 3:  Elapsed Time: 0.004 seconds (Warm-up)\n",
      "Chain 3:                0.004 seconds (Sampling)\n",
      "Chain 3:                0.008 seconds (Total)\n",
      "Chain 3: \n",
      "\n",
      "SAMPLING FOR MODEL 'anon_model' NOW (CHAIN 4).\n",
      "Chain 4: \n",
      "Chain 4: Gradient evaluation took 1e-06 seconds\n",
      "Chain 4: 1000 transitions using 10 leapfrog steps per transition would take 0.01 seconds.\n",
      "Chain 4: Adjust your expectations accordingly!\n",
      "Chain 4: \n",
      "Chain 4: \n",
      "Chain 4: Iteration:    1 / 2000 [  0%]  (Warmup)\n",
      "Chain 4: Iteration:  200 / 2000 [ 10%]  (Warmup)\n",
      "Chain 4: Iteration:  400 / 2000 [ 20%]  (Warmup)\n",
      "Chain 4: Iteration:  600 / 2000 [ 30%]  (Warmup)\n",
      "Chain 4: Iteration:  800 / 2000 [ 40%]  (Warmup)\n",
      "Chain 4: Iteration: 1000 / 2000 [ 50%]  (Warmup)\n",
      "Chain 4: Iteration: 1001 / 2000 [ 50%]  (Sampling)\n",
      "Chain 4: Iteration: 1200 / 2000 [ 60%]  (Sampling)\n",
      "Chain 4: Iteration: 1400 / 2000 [ 70%]  (Sampling)\n",
      "Chain 4: Iteration: 1600 / 2000 [ 80%]  (Sampling)\n",
      "Chain 4: Iteration: 1800 / 2000 [ 90%]  (Sampling)\n",
      "Chain 4: Iteration: 2000 / 2000 [100%]  (Sampling)\n",
      "Chain 4: \n",
      "Chain 4:  Elapsed Time: 0.004 seconds (Warm-up)\n",
      "Chain 4:                0.004 seconds (Sampling)\n",
      "Chain 4:                0.008 seconds (Total)\n",
      "Chain 4: \n",
      "Inference for Stan model: anon_model.\n",
      "4 chains, each with iter=2000; warmup=1000; thin=1; \n",
      "post-warmup draws per chain=1000, total post-warmup draws=4000.\n",
      "\n",
      "       mean se_mean   sd   2.5%    25%    50%    75%  97.5% n_eff Rhat\n",
      "p      0.09    0.00 0.03   0.05   0.08   0.09   0.11   0.15  1592    1\n",
      "lp__ -40.24    0.02 0.71 -42.25 -40.40 -39.96 -39.78 -39.73  1569    1\n",
      "\n",
      "Samples were drawn using NUTS(diag_e) at Sat Jun  1 22:05:29 2024.\n",
      "For each parameter, n_eff is a crude measure of effective sample size,\n",
      "and Rhat is the potential scale reduction factor on split chains (at \n",
      "convergence, Rhat=1).\n"
     ]
    },
    {
     "data": {
      "text/plain": [
       "\n",
       "\n",
       "|Statistic            |Value            |\n",
       "|:--------------------|:----------------|\n",
       "|Posterior Mean       |0.0945           |\n",
       "|Posterior Variance   |7e-04            |\n",
       "|Credibility Interval |(0.0506, 0.1526) |"
      ]
     },
     "metadata": {},
     "output_type": "display_data"
    },
    {
     "data": {
      "image/png": "[encoded data removed]",
      "text/plain": [
       "plot without title"
      ]
     },
     "metadata": {
      "image/png": {
       "height": 420,
       "width": 420
      }
     },
     "output_type": "display_data"
    }
   ],
   "source": [
    "stan_code = \"\n",
    "data {\n",
    "    int<lower=0> y; // number of successes\n",
    "    int<lower=0> n; // number of trials\n",
    "    real<lower=0> alpha_prior; // prior alpha\n",
    "    real<lower=0> beta_prior; // prior beta\n",
    "}\n",
    "parameters {\n",
    "    real<lower=0, upper=1> p; // probability of success\n",
    "}\n",
    "model {\n",
    "    p ~ beta(alpha_prior, beta_prior); // prior\n",
    "    y ~ binomial(n, p); // likelihood\n",
    "}\n",
    "\"\n",
    "\n",
    "\n",
    "stan_model = stan_model(model_code=stan_code)\n",
    "stan_data = list(y=y, n=n, alpha_prior=alpha_prior, beta_prior=beta_prior)\n",
    "\n",
    "fit = sampling(stan_model, data=stan_data, iter=2000, chains=4, seed=123)\n",
    "print(fit)\n",
    "\n",
    "posterior_samples = extract(fit)\n",
    "\n",
    "post_mean = mean(posterior_samples$p)\n",
    "post_var = var(posterior_samples$p)\n",
    "ci = quantile(posterior_samples$p, probs=c(0.025, 0.975))\n",
    "\n",
    "results = data.frame(\n",
    "    Statistic = c(\"Posterior Mean\", \"Posterior Variance\", \"Credibility Interval\"),\n",
    "    Value = c(round(post_mean, 4), round(post_var, 4), paste0(\"(\", round(ci[1], 4), \", \", round(ci[2], 4), \")\"))\n",
    ")\n",
    "kable(results, col.names=c(\"Statistic\", \"Value\"))\n",
    "\n",
    "posterior_density = density(posterior_samples$p, adjust=2)\n",
    "posterior_df = data.frame(x=posterior_density$x, posterior=posterior_density$y)\n",
    "\n",
    "ggplot(posterior_df, aes(x=x, y=posterior)) +\n",
    "    geom_col(fill=\"skyblue\", color=\"black\") +\n",
    "    labs(x=\"Measurements\",\n",
    "         y=\"Density\",\n",
    "         title=\"Posterior Distribution\") +\n",
    "  theme(text=element_text(size=12),\n",
    "        axis.title.x=element_text(face=\"bold\", size=12),\n",
    "        axis.title.y=element_text(face=\"bold\", size=12),\n",
    "        axis.text=element_text(color=\"black\"),\n",
    "        axis.ticks=element_line(color=\"black\"),\n",
    "        plot.title=element_text(hjust=0.5, face=\"bold\", size=14),\n",
    "        panel.background=element_rect(fill=\"white\", color=\"black\"),\n",
    "        panel.grid.major=element_line(linewidth=0.25, linetype='solid', color=\"grey80\"),\n",
    "        panel.grid.minor=element_line(linewidth=0.25, linetype='solid', color=\"grey80\"))"
   ]
  },
  {
   "cell_type": "code",
   "execution_count": null,
   "id": "dbd22251-8067-44bf-bbbf-d8d8036e20c9",
   "metadata": {},
   "outputs": [],
   "source": []
  }
 ],
 "metadata": {
  "kernelspec": {
   "display_name": "R",
   "language": "R",
   "name": "ir"
  },
  "language_info": {
   "codemirror_mode": "r",
   "file_extension": ".r",
   "mimetype": "text/x-r-source",
   "name": "R",
   "pygments_lexer": "r",
   "version": "4.3.1"
  }
 },
 "nbformat": 4,
 "nbformat_minor": 5
}
