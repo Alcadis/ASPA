{
 "cells": [
  {
   "cell_type": "code",
   "execution_count": 1,
   "id": "9f45e29e-236d-47a7-8d30-3138291a9476",
   "metadata": {},
   "outputs": [],
   "source": [
    "library(ggplot2)"
   ]
  },
  {
   "cell_type": "markdown",
   "id": "c21b66cd-6929-4192-aaf0-a41011002c10",
   "metadata": {},
   "source": [
    "### Exercise 1"
   ]
  },
  {
   "cell_type": "markdown",
   "id": "00d076f2-f46a-4cb7-ae66-74486b24da48",
   "metadata": {},
   "source": [
    "Ladislaus Josephovich Bortkiewicz was a Russian economist and statistician. He noted that the\n",
    "Poisson distribution can be very useful in applied statistics when describing low-frequency events\n",
    "in a large population. In a famous example he showed that the number of deaths by horse kick\n",
    "among the Prussian army follows the Poisson distribution.\n",
    "Considering the following to sets of observations taken over a fi\f",
    "xed large time interval in two different \n",
    "corp:\n",
    "\n",
    "\n",
    "$$\n",
    "\\begin{array}{c|cccccc}\n",
    "\\text{y death soldiers} & 0 & 1 & 2 & 3 & 4 & \\geq 5 \\\\ \\hline\n",
    "n_1 \\text{ observations}  & 109 & 65 & 22 & 3 & 1 & 0 \\\\\n",
    "n_2 \\text{ observations}  & 144 & 91 & 32 & 11 & 2 & 0 \\\\\n",
    "\\end{array}\n",
    "$$:"
   ]
  },
  {
   "cell_type": "markdown",
   "id": "cbcda765-d79d-438e-978a-b4398a6bad3e",
   "metadata": {},
   "source": [
    "a) assuming a uniform prior, compute and plot the posterior distribution for $\\lambda$, the death rate over the measurement time. Determine the posterior mean, median and variance, and compute the 95% credibility interval."
   ]
  },
  {
   "cell_type": "code",
   "execution_count": 2,
   "id": "bf646608-469d-4212-aa5a-0043e0cbc9b2",
   "metadata": {},
   "outputs": [],
   "source": [
    "#first do everything with a uniform prior"
   ]
  },
  {
   "cell_type": "markdown",
   "id": "1bf4edfb-e83b-45c4-8e73-7396edd67b1f",
   "metadata": {},
   "source": [
    "b) assuming now a Je\u000b",
    "reys' prior,\n",
    "\n",
    "$g(\\lambda) \\propto \\frac{1}{\\sqrt{\\lambda}}, \\quad \\lambda > 0$\n",
    "\n",
    "compute and plot the posterior distribution for $\\lambda$, the death rate over the measurement time.\r\n",
    "Determine the posterior mean, median and variance, and compute the 95% credibility interval. 0"
   ]
  },
  {
   "cell_type": "code",
   "execution_count": 3,
   "id": "72931892-0d2d-4ca9-b244-7999f6e1cfe8",
   "metadata": {},
   "outputs": [],
   "source": [
    "#then do everything with a jeffrey's prior"
   ]
  },
  {
   "cell_type": "markdown",
   "id": "bf53f9a2-ee9d-4443-8cd4-bb9d53456719",
   "metadata": {},
   "source": [
    "### Exercise 2"
   ]
  },
  {
   "cell_type": "markdown",
   "id": "cb8e8632-6e16-4a72-b70a-89ea70c1ad66",
   "metadata": {},
   "source": [
    "Solve Exercise 1 using a Markov Chain Monte Carlo using stan."
   ]
  },
  {
   "cell_type": "code",
   "execution_count": null,
   "id": "a112e52e-45de-4564-b762-2195585ce600",
   "metadata": {},
   "outputs": [],
   "source": []
  },
  {
   "cell_type": "markdown",
   "id": "7ab39ab7-7d40-49b3-a06a-53df4578b18d",
   "metadata": {},
   "source": [
    "### Exercise 3"
   ]
  },
  {
   "cell_type": "markdown",
   "id": "7c9d1b26-b800-478d-be58-11d8d061b5d4",
   "metadata": {},
   "source": [
    "A study on water quality of streams, a high level of bacter X was de\f",
    "ned as a level greater than 100 per 100 ml of stream water. n = 116 samples were taken from streams having a high environmental impact on pandas. Out of these, y = 11 had a high bacter X level.\n",
    "Indicating with p the probability that a sample of water taken from the stream has a high bacter \n",
    "X level,"
   ]
  },
  {
   "cell_type": "markdown",
   "id": "8dc76076-e6c1-4eed-91ce-5d043a99ed23",
   "metadata": {},
   "source": [
    "\f",
    "a) Find the frequentist estimator for p"
   ]
  },
  {
   "cell_type": "code",
   "execution_count": null,
   "id": "d09197d0-1d34-4969-9780-f1cdef7a4b24",
   "metadata": {},
   "outputs": [],
   "source": []
  },
  {
   "cell_type": "markdown",
   "id": "f22bf476-3bda-4a0a-8c05-89eb0edf0c73",
   "metadata": {},
   "source": [
    "b) Using a Beta(1; 10) prior for p, calculate and posterior distribution $P(p \\mid y)$"
   ]
  },
  {
   "cell_type": "code",
   "execution_count": null,
   "id": "bda74e59-885b-4427-a33c-028d954f1413",
   "metadata": {},
   "outputs": [],
   "source": []
  },
  {
   "cell_type": "markdown",
   "id": "30b05c59-aa36-47bc-99d2-d3b7ce7bc8e7",
   "metadata": {},
   "source": [
    "c) Fi\f",
    "nd the bayesian estimator for p, the posterior mean and variance, and a 95% credible interval"
   ]
  },
  {
   "cell_type": "code",
   "execution_count": null,
   "id": "0c893334-2571-41dd-9e1a-f7ead70bc7d1",
   "metadata": {},
   "outputs": [],
   "source": []
  },
  {
   "cell_type": "markdown",
   "id": "71fef4b4-e131-4659-893d-5636a3b30050",
   "metadata": {},
   "source": [
    "d) Test the hypotesis:\n",
    "\n",
    "$H_0 : p = 0.1 \\text{ versus } H1 : p \\neq 0.1$\n",
    "\n",
    "at 5% level of signi\f",
    "cance with both the frequentist and bayesian approach."
   ]
  },
  {
   "cell_type": "code",
   "execution_count": null,
   "id": "3f7145ab-df67-42ea-bfcd-64003496c1c6",
   "metadata": {},
   "outputs": [],
   "source": []
  },
  {
   "cell_type": "markdown",
   "id": "f11e0dac-17bb-4951-af2e-cc67f389e3d8",
   "metadata": {},
   "source": [
    "A new measurement, performed one month later on n = 165 water samples, gives y = 9 high bacter X level.\n",
    "\n",
    "e) Find the frequentist estimator for p"
   ]
  },
  {
   "cell_type": "code",
   "execution_count": null,
   "id": "750d479a-8034-4f37-8510-416e55ad6615",
   "metadata": {},
   "outputs": [],
   "source": []
  },
  {
   "cell_type": "markdown",
   "id": "17deffc1-13d9-46a7-84a4-5e0586933d67",
   "metadata": {},
   "source": [
    "f) Find a bayesian estimator for p , assuming both a Beta(1,19) prior for p, and assuming the posterior probability of the older measurement as the prior for the new one."
   ]
  },
  {
   "cell_type": "code",
   "execution_count": null,
   "id": "d4d36b7e-74cd-46be-a062-c33309bd4f7c",
   "metadata": {},
   "outputs": [],
   "source": []
  },
  {
   "cell_type": "markdown",
   "id": "73396558-38ce-40ce-aacb-db9d29359fde",
   "metadata": {},
   "source": [
    "g) Find the bayesian estimator for p, the posterior mean and variance, and a 95% credible interval."
   ]
  },
  {
   "cell_type": "code",
   "execution_count": null,
   "id": "5a8b6551-e645-4f05-8692-4368beaf54d1",
   "metadata": {},
   "outputs": [],
   "source": []
  },
  {
   "cell_type": "markdown",
   "id": "a4fa5df7-60f4-484c-bfb1-722c96d49c04",
   "metadata": {},
   "source": [
    "Test the hypotesis:\n",
    "\n",
    "$H_0 : p = 0.1 \\text{ versus } H1 : p \\neq 0.1$\n",
    "\n",
    "at 5% level of significance with both the frequentist and bayesian approach."
   ]
  },
  {
   "cell_type": "code",
   "execution_count": null,
   "id": "25485a4f-a774-48c5-a44a-a509cd063230",
   "metadata": {},
   "outputs": [],
   "source": []
  },
  {
   "cell_type": "markdown",
   "id": "8fd4e5e8-00e7-4e60-bb05-11f50f318f56",
   "metadata": {},
   "source": [
    "### Exercise 4"
   ]
  },
  {
   "cell_type": "markdown",
   "id": "649c3b1a-8d74-482a-b55d-beec82d6e1e7",
   "metadata": {},
   "source": [
    "Analyze the data of Exercise 3 and solve points b) and c) using a MCMC using stan."
   ]
  },
  {
   "cell_type": "code",
   "execution_count": null,
   "id": "b06cfa4b-ed64-4950-a26a-a53fb08afeb0",
   "metadata": {},
   "outputs": [],
   "source": []
  }
 ],
 "metadata": {
  "kernelspec": {
   "display_name": "R",
   "language": "R",
   "name": "ir"
  },
  "language_info": {
   "codemirror_mode": "r",
   "file_extension": ".r",
   "mimetype": "text/x-r-source",
   "name": "R",
   "pygments_lexer": "r",
   "version": "4.1.3"
  }
 },
 "nbformat": 4,
 "nbformat_minor": 5
}
