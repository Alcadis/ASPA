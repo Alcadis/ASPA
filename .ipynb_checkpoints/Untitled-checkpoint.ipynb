{
 "cells": [
  {
   "cell_type": "markdown",
   "id": "5ad4be92-3d8f-4815-baac-ba5b9887d302",
   "metadata": {},
   "source": [
    "### Inequalities"
   ]
  },
  {
   "cell_type": "markdown",
   "id": "cf1c94f2-661d-41be-8d6a-fd4b5343e245",
   "metadata": {},
   "source": [
    "1) Suppose that X is a random variable with mean and variance both equal to 20. What can be said about P{0 <\n",
    "x < 40}"
   ]
  },
  {
   "cell_type": "code",
   "execution_count": 10,
   "id": "3eb71e5d-2af1-41cc-bfba-45674ae43ea1",
   "metadata": {},
   "outputs": [
    {
     "data": {
      "text/html": [
       "0.95"
      ],
      "text/latex": [
       "0.95"
      ],
      "text/markdown": [
       "0.95"
      ],
      "text/plain": [
       "[1] 0.95"
      ]
     },
     "metadata": {},
     "output_type": "display_data"
    }
   ],
   "source": [
    "mean = 20\n",
    "var = 20\n",
    "std = sqrt(var)\n",
    "\n",
    "k = 20 / std\n",
    "\n",
    "limit = 1 - (1/(k)^2)\n",
    "limit"
   ]
  },
  {
   "cell_type": "markdown",
   "id": "c3b1560f-92ee-4280-891e-851423209cdd",
   "metadata": {},
   "source": [
    "2) From past experience, a professor knows that the test\n",
    "score of a student taking her final examination is a random\n",
    "variable with mean 75.\n",
    "\n"
   ]
  },
  {
   "cell_type": "markdown",
   "id": "ddcf7ce8-918a-4479-b690-d1846fef0e6a",
   "metadata": {},
   "source": [
    "a) Give an upper bound for the probability that a student's test score will exceed 85. Suppose, in addition, that the professor knows that the variacne of a student's ttest score is equal to 25."
   ]
  },
  {
   "cell_type": "code",
   "execution_count": 14,
   "id": "18b28a71-ce09-4bd4-b87a-550a6dfd47ca",
   "metadata": {},
   "outputs": [
    {
     "data": {
      "text/html": [
       "0.25"
      ],
      "text/latex": [
       "0.25"
      ],
      "text/markdown": [
       "0.25"
      ],
      "text/plain": [
       "[1] 0.25"
      ]
     },
     "metadata": {},
     "output_type": "display_data"
    }
   ],
   "source": [
    "mean = 75\n",
    "var = 25\n",
    "std = sqrt(var)\n",
    "\n",
    "k = (85 - 75) / std\n",
    "limit = 1 / k^2\n",
    "limit"
   ]
  },
  {
   "cell_type": "markdown",
   "id": "a45e4e22-a197-4b08-9328-105a37d714b5",
   "metadata": {},
   "source": [
    "b) What can be said about the probabilitythat a student will score between 65 and 85?"
   ]
  },
  {
   "cell_type": "code",
   "execution_count": 17,
   "id": "29fe80c5-dfa2-46e6-893b-f1289e16dad5",
   "metadata": {},
   "outputs": [
    {
     "data": {
      "text/html": [
       "0.75"
      ],
      "text/latex": [
       "0.75"
      ],
      "text/markdown": [
       "0.75"
      ],
      "text/plain": [
       "[1] 0.75"
      ]
     },
     "metadata": {},
     "output_type": "display_data"
    }
   ],
   "source": [
    "k = 10 / std\n",
    "limit = 1 - 1 / k^2\n",
    "limit"
   ]
  },
  {
   "cell_type": "code",
   "execution_count": null,
   "id": "5c1b837f-56ed-4964-ab0e-05ce7181bd74",
   "metadata": {},
   "outputs": [],
   "source": []
  }
 ],
 "metadata": {
  "kernelspec": {
   "display_name": "R",
   "language": "R",
   "name": "ir"
  },
  "language_info": {
   "codemirror_mode": "r",
   "file_extension": ".r",
   "mimetype": "text/x-r-source",
   "name": "R",
   "pygments_lexer": "r",
   "version": "4.3.1"
  }
 },
 "nbformat": 4,
 "nbformat_minor": 5
}
