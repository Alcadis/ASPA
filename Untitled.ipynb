{
 "cells": [
  {
   "cell_type": "code",
   "execution_count": 3,
   "id": "57e3fa5a-201e-4048-9ccc-4c63ecafae0b",
   "metadata": {},
   "outputs": [
    {
     "ename": "ERROR",
     "evalue": "Error in parse(text = x, srcfile = src): <text>:13:15: unexpected symbol\n12: p.d.m <- 0.9 # True positive\n13: p.d.notm <- 10ˆseq\n                  ^\n",
     "output_type": "error",
     "traceback": [
      "Error in parse(text = x, srcfile = src): <text>:13:15: unexpected symbol\n12: p.d.m <- 0.9 # True positive\n13: p.d.notm <- 10ˆseq\n                  ^\nTraceback:\n"
     ]
    }
   ],
   "source": [
    "post <- function(p.d.m, p.d.notm , p.m) {\n",
    "p.notm <- 1 - p.m\n",
    "odds.ratio <- (p.d.m * p.m) /\n",
    "(p.d.notm * p.notm)\n",
    "p.m.d <- 1/(1 + 1/odds.ratio)\n",
    "}\n",
    "p.d.m <- seq(0, 1, 0.01) # True positive\n",
    "p.d.notm <- 0.07 # False positive\n",
    "p.m <- 0.008 # Disease Prior\n",
    "p.m.d <- post(p.d.m, p.d.notm , p.m)\n",
    "plot(p.d.m, p.m.d, type=\"l\", lwd=2, col=\"navy\")\n",
    "p.d.m <- 0.9 # True positive\n",
    "p.d.notm <- 10ˆseq(-4,0, 0.02) # False positive\n",
    "p.m <- 0.008 # Disease Prior\n",
    "p.m.d <- post(p.d.m, p.d.notm , p.m)\n",
    "plot(log10(p.d.notm), p.m.d, type=\"l\", col=\"navy\")"
   ]
  },
  {
   "cell_type": "code",
   "execution_count": null,
   "id": "dcb8b50f-81d3-479d-b6aa-cce5ae0e9e88",
   "metadata": {},
   "outputs": [],
   "source": []
  }
 ],
 "metadata": {
  "kernelspec": {
   "display_name": "R",
   "language": "R",
   "name": "ir"
  },
  "language_info": {
   "codemirror_mode": "r",
   "file_extension": ".r",
   "mimetype": "text/x-r-source",
   "name": "R",
   "pygments_lexer": "r",
   "version": "4.3.1"
  }
 },
 "nbformat": 4,
 "nbformat_minor": 5
}
