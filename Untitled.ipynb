{
 "cells": [
  {
   "cell_type": "code",
   "execution_count": 13,
   "id": "8f04f65b-139c-42c5-9a32-6e3c018ce05a",
   "metadata": {},
   "outputs": [
    {
     "data": {
      "text/html": [
       "0.05465"
      ],
      "text/latex": [
       "0.05465"
      ],
      "text/markdown": [
       "0.05465"
      ],
      "text/plain": [
       "[1] 0.05465"
      ]
     },
     "metadata": {},
     "output_type": "display_data"
    }
   ],
   "source": [
    "a = 0.98*0.005 + 0.05*0.995\n",
    "a"
   ]
  },
  {
   "cell_type": "code",
   "execution_count": 12,
   "id": "652063e4-269c-4bd4-b68d-f637707d58c8",
   "metadata": {},
   "outputs": [
    {
     "data": {
      "text/html": [
       "0.0896614821591949"
      ],
      "text/latex": [
       "0.0896614821591949"
      ],
      "text/markdown": [
       "0.0896614821591949"
      ],
      "text/plain": [
       "[1] 0.08966148"
      ]
     },
     "metadata": {},
     "output_type": "display_data"
    }
   ],
   "source": [
    "(0.98*0.005) / a"
   ]
  },
  {
   "cell_type": "markdown",
   "id": "9fdbee29-543b-429b-b2f2-a88cb104b98d",
   "metadata": {},
   "source": [
    "Se un secondo test, indipendente dal primo, viene somministrato allo stesso paziente e risulta anch'esso positivo, qual è la probabilità che il paziente sia effettivamente malato?"
   ]
  },
  {
   "cell_type": "code",
   "execution_count": 14,
   "id": "03b991e3-4efe-4b1f-bed4-0579953c5c05",
   "metadata": {},
   "outputs": [
    {
     "data": {
      "text/html": [
       "0.007921"
      ],
      "text/latex": [
       "0.007921"
      ],
      "text/markdown": [
       "0.007921"
      ],
      "text/plain": [
       "[1] 0.007921"
      ]
     },
     "metadata": {},
     "output_type": "display_data"
    }
   ],
   "source": [
    "0.089*0.089"
   ]
  },
  {
   "cell_type": "code",
   "execution_count": null,
   "id": "c024ebf5-2c68-4277-a924-5ea689b6dd60",
   "metadata": {},
   "outputs": [],
   "source": []
  }
 ],
 "metadata": {
  "kernelspec": {
   "display_name": "R",
   "language": "R",
   "name": "ir"
  },
  "language_info": {
   "codemirror_mode": "r",
   "file_extension": ".r",
   "mimetype": "text/x-r-source",
   "name": "R",
   "pygments_lexer": "r",
   "version": "4.3.1"
  }
 },
 "nbformat": 4,
 "nbformat_minor": 5
}
