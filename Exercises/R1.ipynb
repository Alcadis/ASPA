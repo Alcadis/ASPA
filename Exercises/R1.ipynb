{
 "cells": [
  {
   "cell_type": "code",
   "execution_count": 2,
   "id": "47bb5803-a48e-4e3d-a85e-e4e84e7f0fc4",
   "metadata": {},
   "outputs": [],
   "source": [
    "# 1\n",
    "feb = read.csv(\"C:\\\\Users\\\\Andrea\\\\Desktop\\\\Exercises\\\\JC-201902-citibike-tripdata.csv\")\n",
    "mar = read.csv(\"C:\\\\Users\\\\Andrea\\\\Desktop\\\\Exercises\\\\JC-201903-citibike-tripdata.csv\")\n",
    "apr = read.csv(\"C:\\\\Users\\\\Andrea\\\\Desktop\\\\Exercises\\\\JC-201904-citibike-tripdata.csv\")\n",
    "may = read.csv(\"C:\\\\Users\\\\Andrea\\\\Desktop\\\\Exercises\\\\JC-201905-citibike-tripdata.csv\")\n",
    "jun = read.csv(\"C:\\\\Users\\\\Andrea\\\\Desktop\\\\Exercises\\\\JC-201906-citibike-tripdata.csv\")"
   ]
  },
  {
   "cell_type": "code",
   "execution_count": 8,
   "id": "1b3fdd99-9165-4285-a4a0-d6965b1a7ed8",
   "metadata": {},
   "outputs": [
    {
     "data": {
      "text/html": [
       "<table>\n",
       "<thead><tr><th scope=col>tripduration</th><th scope=col>starttime</th><th scope=col>stoptime</th><th scope=col>start.station.id</th><th scope=col>start.station.name</th><th scope=col>start.station.latitude</th><th scope=col>start.station.longitude</th><th scope=col>end.station.id</th><th scope=col>end.station.name</th><th scope=col>end.station.latitude</th><th scope=col>end.station.longitude</th><th scope=col>bikeid</th><th scope=col>usertype</th><th scope=col>birth.year</th><th scope=col>gender</th></tr></thead>\n",
       "<tbody>\n",
       "\t<tr><td>142                     </td><td>2019-02-01 15:35:02.0820</td><td>2019-02-01 15:37:24.1360</td><td>3183                    </td><td>Exchange Place          </td><td>40.71625                </td><td>-74.03346               </td><td>3639                    </td><td>Harborside              </td><td>40.71925                </td><td>-74.03423               </td><td>29677                   </td><td>Subscriber              </td><td>1963                    </td><td>1                       </td></tr>\n",
       "\t<tr><td>223                     </td><td>2019-02-01 17:00:46.8900</td><td>2019-02-01 17:04:30.5500</td><td>3183                    </td><td>Exchange Place          </td><td>40.71625                </td><td>-74.03346               </td><td>3681                    </td><td>Grand St                </td><td>40.71518                </td><td>-74.03768               </td><td>26234                   </td><td>Subscriber              </td><td>1992                    </td><td>2                       </td></tr>\n",
       "\t<tr><td>106                     </td><td>2019-02-01 17:08:01.3260</td><td>2019-02-01 17:09:47.4400</td><td>3183                    </td><td>Exchange Place          </td><td>40.71625                </td><td>-74.03346               </td><td>3184                    </td><td>Paulus Hook             </td><td>40.71415                </td><td>-74.03355               </td><td>29588                   </td><td>Subscriber              </td><td>1960                    </td><td>1                       </td></tr>\n",
       "\t<tr><td>370                     </td><td>2019-02-01 17:09:31.2100</td><td>2019-02-01 17:15:41.6550</td><td>3183                    </td><td>Exchange Place          </td><td>40.71625                </td><td>-74.03346               </td><td>3211                    </td><td>Newark Ave              </td><td>40.72153                </td><td>-74.04630               </td><td>29250                   </td><td>Subscriber              </td><td>1976                    </td><td>1                       </td></tr>\n",
       "\t<tr><td>315                     </td><td>2019-02-01 17:19:53.2490</td><td>2019-02-01 17:25:09.1400</td><td>3183                    </td><td>Exchange Place          </td><td>40.71625                </td><td>-74.03346               </td><td>3273                    </td><td>Manila &amp; 1st        </td><td>40.72165                </td><td>-74.04288               </td><td>29586                   </td><td>Subscriber              </td><td>1980                    </td><td>1                       </td></tr>\n",
       "</tbody>\n",
       "</table>\n"
      ],
      "text/latex": [
       "\\begin{tabular}{r|lllllllllllllll}\n",
       " tripduration & starttime & stoptime & start.station.id & start.station.name & start.station.latitude & start.station.longitude & end.station.id & end.station.name & end.station.latitude & end.station.longitude & bikeid & usertype & birth.year & gender\\\\\n",
       "\\hline\n",
       "\t 142                      & 2019-02-01 15:35:02.0820 & 2019-02-01 15:37:24.1360 & 3183                     & Exchange Place           & 40.71625                 & -74.03346                & 3639                     & Harborside               & 40.71925                 & -74.03423                & 29677                    & Subscriber               & 1963                     & 1                       \\\\\n",
       "\t 223                      & 2019-02-01 17:00:46.8900 & 2019-02-01 17:04:30.5500 & 3183                     & Exchange Place           & 40.71625                 & -74.03346                & 3681                     & Grand St                 & 40.71518                 & -74.03768                & 26234                    & Subscriber               & 1992                     & 2                       \\\\\n",
       "\t 106                      & 2019-02-01 17:08:01.3260 & 2019-02-01 17:09:47.4400 & 3183                     & Exchange Place           & 40.71625                 & -74.03346                & 3184                     & Paulus Hook              & 40.71415                 & -74.03355                & 29588                    & Subscriber               & 1960                     & 1                       \\\\\n",
       "\t 370                      & 2019-02-01 17:09:31.2100 & 2019-02-01 17:15:41.6550 & 3183                     & Exchange Place           & 40.71625                 & -74.03346                & 3211                     & Newark Ave               & 40.72153                 & -74.04630                & 29250                    & Subscriber               & 1976                     & 1                       \\\\\n",
       "\t 315                      & 2019-02-01 17:19:53.2490 & 2019-02-01 17:25:09.1400 & 3183                     & Exchange Place           & 40.71625                 & -74.03346                & 3273                     & Manila \\& 1st           & 40.72165                 & -74.04288                & 29586                    & Subscriber               & 1980                     & 1                       \\\\\n",
       "\\end{tabular}\n"
      ],
      "text/markdown": [
       "\n",
       "| tripduration | starttime | stoptime | start.station.id | start.station.name | start.station.latitude | start.station.longitude | end.station.id | end.station.name | end.station.latitude | end.station.longitude | bikeid | usertype | birth.year | gender |\n",
       "|---|---|---|---|---|---|---|---|---|---|---|---|---|---|---|\n",
       "| 142                      | 2019-02-01 15:35:02.0820 | 2019-02-01 15:37:24.1360 | 3183                     | Exchange Place           | 40.71625                 | -74.03346                | 3639                     | Harborside               | 40.71925                 | -74.03423                | 29677                    | Subscriber               | 1963                     | 1                        |\n",
       "| 223                      | 2019-02-01 17:00:46.8900 | 2019-02-01 17:04:30.5500 | 3183                     | Exchange Place           | 40.71625                 | -74.03346                | 3681                     | Grand St                 | 40.71518                 | -74.03768                | 26234                    | Subscriber               | 1992                     | 2                        |\n",
       "| 106                      | 2019-02-01 17:08:01.3260 | 2019-02-01 17:09:47.4400 | 3183                     | Exchange Place           | 40.71625                 | -74.03346                | 3184                     | Paulus Hook              | 40.71415                 | -74.03355                | 29588                    | Subscriber               | 1960                     | 1                        |\n",
       "| 370                      | 2019-02-01 17:09:31.2100 | 2019-02-01 17:15:41.6550 | 3183                     | Exchange Place           | 40.71625                 | -74.03346                | 3211                     | Newark Ave               | 40.72153                 | -74.04630                | 29250                    | Subscriber               | 1976                     | 1                        |\n",
       "| 315                      | 2019-02-01 17:19:53.2490 | 2019-02-01 17:25:09.1400 | 3183                     | Exchange Place           | 40.71625                 | -74.03346                | 3273                     | Manila & 1st             | 40.72165                 | -74.04288                | 29586                    | Subscriber               | 1980                     | 1                        |\n",
       "\n"
      ],
      "text/plain": [
       "  tripduration starttime                stoptime                \n",
       "1 142          2019-02-01 15:35:02.0820 2019-02-01 15:37:24.1360\n",
       "2 223          2019-02-01 17:00:46.8900 2019-02-01 17:04:30.5500\n",
       "3 106          2019-02-01 17:08:01.3260 2019-02-01 17:09:47.4400\n",
       "4 370          2019-02-01 17:09:31.2100 2019-02-01 17:15:41.6550\n",
       "5 315          2019-02-01 17:19:53.2490 2019-02-01 17:25:09.1400\n",
       "  start.station.id start.station.name start.station.latitude\n",
       "1 3183             Exchange Place     40.71625              \n",
       "2 3183             Exchange Place     40.71625              \n",
       "3 3183             Exchange Place     40.71625              \n",
       "4 3183             Exchange Place     40.71625              \n",
       "5 3183             Exchange Place     40.71625              \n",
       "  start.station.longitude end.station.id end.station.name end.station.latitude\n",
       "1 -74.03346               3639           Harborside       40.71925            \n",
       "2 -74.03346               3681           Grand St         40.71518            \n",
       "3 -74.03346               3184           Paulus Hook      40.71415            \n",
       "4 -74.03346               3211           Newark Ave       40.72153            \n",
       "5 -74.03346               3273           Manila & 1st     40.72165            \n",
       "  end.station.longitude bikeid usertype   birth.year gender\n",
       "1 -74.03423             29677  Subscriber 1963       1     \n",
       "2 -74.03768             26234  Subscriber 1992       2     \n",
       "3 -74.03355             29588  Subscriber 1960       1     \n",
       "4 -74.04630             29250  Subscriber 1976       1     \n",
       "5 -74.04288             29586  Subscriber 1980       1     "
      ]
     },
     "metadata": {},
     "output_type": "display_data"
    }
   ],
   "source": [
    "# 2\n",
    "dataset = rbind(feb, mar, apr, may, jun)\n",
    "\n",
    "head(dataset, 5)"
   ]
  },
  {
   "cell_type": "code",
   "execution_count": 9,
   "id": "257feb12-3f02-4aa5-87a3-773b53908b09",
   "metadata": {},
   "outputs": [
    {
     "data": {
      "text/html": [
       "FALSE"
      ],
      "text/latex": [
       "FALSE"
      ],
      "text/markdown": [
       "FALSE"
      ],
      "text/plain": [
       "[1] FALSE"
      ]
     },
     "metadata": {},
     "output_type": "display_data"
    }
   ],
   "source": [
    "# 3\n",
    "any(is.na(dataset))"
   ]
  },
  {
   "cell_type": "code",
   "execution_count": 11,
   "id": "c49f5d61-8a23-4e3c-9234-f184bb24d9a2",
   "metadata": {},
   "outputs": [
    {
     "data": {
      "text/html": [
       "768.642766194493"
      ],
      "text/latex": [
       "768.642766194493"
      ],
      "text/markdown": [
       "768.642766194493"
      ],
      "text/plain": [
       "[1] 768.6428"
      ]
     },
     "metadata": {},
     "output_type": "display_data"
    }
   ],
   "source": [
    "# 4.1\n",
    "avg = mean(dataset$tripduration)\n",
    "avg"
   ]
  }
 ],
 "metadata": {
  "kernelspec": {
   "display_name": "R",
   "language": "R",
   "name": "ir"
  },
  "language_info": {
   "codemirror_mode": "r",
   "file_extension": ".r",
   "mimetype": "text/x-r-source",
   "name": "R",
   "pygments_lexer": "r",
   "version": "3.6.1"
  }
 },
 "nbformat": 4,
 "nbformat_minor": 5
}
