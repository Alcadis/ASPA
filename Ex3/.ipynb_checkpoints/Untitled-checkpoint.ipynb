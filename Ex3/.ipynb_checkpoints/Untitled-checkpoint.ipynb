{
 "cells": [
  {
   "cell_type": "code",
   "execution_count": 8,
   "id": "52066a67-20b1-4493-a9ea-0ddbd2b59f1d",
   "metadata": {},
   "outputs": [],
   "source": [
    "library(ggplot2)\n",
    "library(knitr)"
   ]
  },
  {
   "cell_type": "markdown",
   "id": "d43c58c3-f84b-4708-8b81-dfac3a46decf",
   "metadata": {},
   "source": [
    "### Exercise 1: Bayesian Inference for Poisson model"
   ]
  },
  {
   "cell_type": "markdown",
   "id": "1d8435c0-a412-4802-985c-deb28bb04a41",
   "metadata": {},
   "source": [
    "The number of particles emitted by a radioactive source during a fixed interval of time  \n",
    "($\\Delta t = 10\\ s$) follows a Poisson distribution on the parameter $\\mu$. The number of particles  \n",
    "observed during consecutive time intervals is: 4, 1, 3, 1, 5 and 3."
   ]
  },
  {
   "cell_type": "markdown",
   "id": "5cd48afb-adc8-40e9-8c02-f95cba4d6392",
   "metadata": {},
   "source": [
    "a) assuming a positive uniform priori distributiuon for the parameter $\\mu$"
   ]
  },
  {
   "cell_type": "markdown",
   "id": "901ae4cc-cff9-492a-99b2-1bd947990b80",
   "metadata": {},
   "source": [
    "- determine and draw the posterior distribution for $\\mu$, given the data"
   ]
  },
  {
   "cell_type": "code",
   "execution_count": 10,
   "id": "e660b09d-ac98-4f31-b04d-43c46f7979d3",
   "metadata": {
    "scrolled": true
   },
   "outputs": [
    {
     "data": {
      "image/png": "[encoded data removed]",
      "text/plain": [
       "plot without title"
      ]
     },
     "metadata": {},
     "output_type": "display_data"
    }
   ],
   "source": [
    "#for a poisson model and a prior uniform distribution, the posterior is a gamma distribution.\n",
    "#having this info we can calculate alpha and beta for the gamma distribution.\n",
    "\n",
    "data = c(4,1,3,1,5,3)\n",
    "alpha_a = sum(data) + 1\n",
    "beta_a = length(data)\n",
    "\n",
    "mu = seq(0,8,length=10000)\n",
    "post_values = dgamma(x=mu, shape=alpha_a, rate=beta_a)\n",
    "post_norm_values = post_values / sum(post_values)\n",
    "post_data = data.frame(mu=mu, post_values=post_values)\n",
    "\n",
    "ggplot(post_data, aes(x=mu, y=post_values)) + \n",
    "    geom_line(color=\"blue\", size=1) + \n",
    "    labs(x=expression(mu),\n",
    "         y=\"Posterior\",\n",
    "         title=\"Posterior Distribution for a Poisson Model\") + \n",
    "    theme(axis.title.y=element_text(angle=0, vjust=0.5),\n",
    "          plot.title=element_text(hjust=0.5, size=14, face=\"bold\"))"
   ]
  },
  {
   "cell_type": "markdown",
   "id": "24da6eb3-58b6-4ca3-bd82-e112e963e000",
   "metadata": {},
   "source": [
    "- evaluate mean, median and variance, both analytically and numerically in R"
   ]
  },
  {
   "cell_type": "code",
   "execution_count": 3,
   "id": "a3a421ad-6c2b-4f9e-80f0-d81eb6d297ee",
   "metadata": {},
   "outputs": [
    {
     "data": {
      "text/plain": [
       "\n",
       "\n",
       "|Type       |     Mean|   Median|  Variance|\n",
       "|:----------|--------:|--------:|---------:|\n",
       "|Analytical | 3.000000| 2.487186| 0.5000000|\n",
       "|Numerical  | 2.999999| 2.944294| 0.4999937|"
      ]
     },
     "metadata": {},
     "output_type": "display_data"
    }
   ],
   "source": [
    "#analitycally i can comput the mean and variance using alpha and beta. i can approximate the median too\n",
    "cdf_values = cumsum(post_norm_values)\n",
    "\n",
    "anal_mean_a = alpha_a / beta_a\n",
    "anal_median = alpha_a^(1/3) * (1 - 1/(9*alpha_a) - 0.2/alpha_a)^3\n",
    "anal_var_a = alpha_a/(beta_a^2)\n",
    "\n",
    "num_mean = sum(mu * post_norm_values)\n",
    "num_median = mu[which(cdf_values >= 0.5)[1]]\n",
    "num_var = sum((mu - num_mean)^2 * post_norm_values)\n",
    "\n",
    "results_df = data.frame(\n",
    "  Type = c(\"Analytical\", \"Numerical\"),\n",
    "  Mean = c(anal_mean_a, num_mean),\n",
    "  Median = c(anal_median, num_median),\n",
    "  Variance = c(anal_var_a, num_var)\n",
    ")\n",
    "\n",
    "kable(results_df, caption=\"Analytical and Numerical Results\")"
   ]
  },
  {
   "cell_type": "markdown",
   "id": "2b3098ef-a9ea-4efc-9916-c3fbf80c984c",
   "metadata": {},
   "source": [
    "b) assuming a Gamma prior such that the expected value is $\\mu = 3$ with a standard deviation $\\sigma = 1$"
   ]
  },
  {
   "cell_type": "markdown",
   "id": "3a0c01d2-8e2a-4481-87c3-fdb38ffe7181",
   "metadata": {},
   "source": [
    "- determine and draw the posterior distribution for $\\mu$, given the data"
   ]
  },
  {
   "cell_type": "code",
   "execution_count": 11,
   "id": "a1ff11df-3a6d-4cbf-82bc-ab97d9e75157",
   "metadata": {},
   "outputs": [
    {
     "data": {
      "image/png": "[encoded data removed]",
      "text/plain": [
       "plot without title"
      ]
     },
     "metadata": {},
     "output_type": "display_data"
    }
   ],
   "source": [
    "expected_mu = 3\n",
    "sigma = 1\n",
    "\n",
    "alpha_b = expected_mu^2 / sigma^2\n",
    "beta_b = expected_mu / sigma^2\n",
    "\n",
    "post_values = dgamma(x=mu, shape=alpha_b, rate=beta_b)\n",
    "post_norm_values = post_values / sum(post_values)\n",
    "post_data = data.frame(mu=mu, post_values=post_values)\n",
    "\n",
    "ggplot(post_data, aes(x=mu, y=post_values)) + \n",
    "    geom_line(color=\"blue\", size=1) + \n",
    "    labs(x=expression(mu),\n",
    "         y=\"Posterior\",\n",
    "         title=\"Posterior Distribution for a Poisson Model\") + \n",
    "    theme(axis.title.y=element_text(angle=0, vjust=0.5),\n",
    "          plot.title=element_text(hjust=0.5, size=14, face=\"bold\"))"
   ]
  },
  {
   "cell_type": "markdown",
   "id": "2dc97d02-34e4-483a-8dca-3eaf18cb831d",
   "metadata": {},
   "source": [
    "- evaluate mean, median and variance, both analytically and numerically in R"
   ]
  },
  {
   "cell_type": "code",
   "execution_count": 5,
   "id": "4be5707e-4630-4103-8ca2-a3b2db7a2fea",
   "metadata": {},
   "outputs": [
    {
     "data": {
      "text/plain": [
       "\n",
       "\n",
       "|Type       |     Mean|   Median|  Variance|\n",
       "|:----------|--------:|--------:|---------:|\n",
       "|Analytical | 2.888889| 2.857417| 0.3209877|\n",
       "|Numerical  | 2.999176| 2.889089| 0.9956043|"
      ]
     },
     "metadata": {},
     "output_type": "display_data"
    }
   ],
   "source": [
    "alpha_post_b = alpha_b + sum(data)\n",
    "beta_post_b = beta_b + length(data)\n",
    "cdf_values = cumsum(post_norm_values)\n",
    "\n",
    "anal_mean_b = alpha_post_b / beta_post_b\n",
    "anal_median = alpha_post_b^(1/3) * (1 - 1/(9*alpha_post_b) - 0.2/alpha_post_b)^3\n",
    "anal_var_b = alpha_post_b/(beta_post_b^2)\n",
    "\n",
    "num_mean = sum(mu * post_norm_values)\n",
    "num_median = mu[which(cdf_values >= 0.5)[1]]\n",
    "num_var = sum((mu - num_mean)^2 * post_norm_values)\n",
    "\n",
    "results_df = data.frame(\n",
    "  Type = c(\"Analytical\", \"Numerical\"),\n",
    "  Mean = c(anal_mean_b, num_mean),\n",
    "  Median = c(anal_median, num_median),\n",
    "  Variance = c(anal_var_b, num_var)\n",
    ")\n",
    "\n",
    "kable(results_df, caption=\"Analytical and Numerical Results\")"
   ]
  },
  {
   "cell_type": "markdown",
   "id": "0a67b31c-0067-4b64-985e-99184aecfd8a",
   "metadata": {},
   "source": [
    "c) evaluate a 95% credibility interval for the result obtained with different priors. Compare the result with that obtained using a normal approximation for the posterior distribution, with the same mean and standard deviation"
   ]
  },
  {
   "cell_type": "code",
   "execution_count": 6,
   "id": "3c19d4d3-01e9-4394-aab0-a544238a1fd5",
   "metadata": {},
   "outputs": [
    {
     "data": {
      "text/plain": [
       "\n",
       "\n",
       "|Prior         |     Mean|  Variance|Gamma.CI                              |Normal.CI                             |\n",
       "|:-------------|--------:|---------:|:-------------------------------------|:-------------------------------------|\n",
       "|Uniform Prior | 3.000000| 0.5000000|c(1.77799013006659, 4.53644113598443) |c(1.61407070887437, 4.38592929112563) |\n",
       "|Gamma Prior   | 2.888889| 0.3209877|c(1.88711813506626, 4.10054796639226) |c(1.77843575037313, 3.99934202740465) |"
      ]
     },
     "metadata": {},
     "output_type": "display_data"
    }
   ],
   "source": [
    "#here i want to start from 2.5% and finish at 97.5%\n",
    "gamma_ci_a = qgamma(c(0.025, 0.975), shape=alpha_a, rate=beta_a)\n",
    "gamma_ci_b = qgamma(c(0.025, 0.975), shape=alpha_post_b, rate=beta_post_b)\n",
    "\n",
    "#the interval is calculated as mu +- 1.96*sigma for the normal approximation\n",
    "normal_ci_a = c(anal_mean_a - 1.96*sqrt(anal_var_a), anal_mean_a + 1.96*sqrt(anal_var_a))\n",
    "normal_ci_b = c(anal_mean_b - 1.96*sqrt(anal_var_b), anal_mean_b + 1.96*sqrt(anal_var_b))\n",
    "\n",
    "comparison = data.frame(\n",
    "  Prior = c(\"Uniform Prior\", \"Gamma Prior\"),\n",
    "  Mean = c(anal_mean_a, anal_mean_b),\n",
    "  Variance = c(anal_var_a, anal_var_b),\n",
    "  `Gamma CI` = I(list(gamma_ci_a, gamma_ci_b)),\n",
    "  `Normal CI` = I(list(normal_ci_a, normal_ci_b))\n",
    ")\n",
    "\n",
    "kable(comparison, caption=\"Results comparison for the 2 different priors\")"
   ]
  },
  {
   "cell_type": "markdown",
   "id": "7e90eb30-2ae4-4b3c-a5de-86ce13f275dd",
   "metadata": {},
   "source": [
    "### Exercise 2: Efficiency using Bayesian approach "
   ]
  },
  {
   "cell_type": "markdown",
   "id": "a1813f29-0842-4059-a0ce-9e499c4f7a19",
   "metadata": {},
   "source": [
    "A researcher A wants to evaluate the efficiency of detector 2 (Det2). For this purpose, he sets up the apparatus shown in the figure 1, where Det2 is sandwiched between Det1 and Det3. Let n be the number of signals recorder simultaneously by Det1 and Det3, and r be those also recorder by Det2, researcher A obtains n = 500 and r = 312.\n",
    "Assuming a binomial model where n is the number of trials and r is the number of success out of n trials,"
   ]
  },
  {
   "cell_type": "markdown",
   "id": "7e65a7a0-a38c-4c37-b4a5-edc7005fb036",
   "metadata": {},
   "source": [
    "a) Evaluate the mean and the variance using a Bayesian approach under the hypothesis of:\n",
    "- uniform prior $\\sim$ U(0,1)\n",
    "- Jeffrey's prior $\\sim$ Beta(1/2,1/2)"
   ]
  },
  {
   "cell_type": "code",
   "execution_count": 16,
   "id": "b688f3a0-9841-4e2c-88de-c6253194d946",
   "metadata": {},
   "outputs": [
    {
     "data": {
      "text/plain": [
       "\n",
       "\n",
       "|Prior           |      Mean|  Variance|\n",
       "|:---------------|---------:|---------:|\n",
       "|Uniform Prior   | 0.6235060| 0.0004667|\n",
       "|Jeffrey's Prior | 0.6237525| 0.0004675|"
      ]
     },
     "metadata": {},
     "output_type": "display_data"
    }
   ],
   "source": [
    "n_a = 500 #number of trials (signals recorded by det1 and det3)\n",
    "r_a = 312 #number of successes (signals also detected by det2)\n",
    "\n",
    "#a uniform (U(0,1)) prior can be described by a Beta(1,1)\n",
    "prior_alpha_u = 1\n",
    "prior_beta_u = 1\n",
    "\n",
    "#for a beta prior with a binomial model, the posterior is again a beta distribution. the parameters are:\n",
    "post_alpha_u = prior_alpha_u + r_a\n",
    "post_beta_u = prior_beta_u + (n_a-r_a)\n",
    "\n",
    "#for the mean and variance we are gonna use alpha and beta previously calculated\n",
    "mean_u = post_alpha_u / (post_alpha_u + post_beta_u)\n",
    "var_u = (post_alpha_u * post_beta_u) / ((post_alpha_u + post_beta_u)^2 * (post_alpha_u + post_beta_u + 1))\n",
    "\n",
    "#i'll do the same calculation for the jeffrey's prior\n",
    "prior_alpha_j = 1/2\n",
    "prior_beta_j = 1/2\n",
    "\n",
    "post_alpha_j = prior_alpha_j + r_a\n",
    "post_beta_j = prior_beta_j + (n_a-r_a)\n",
    "\n",
    "mean_j = post_alpha_j / (post_alpha_j + post_beta_j)\n",
    "var_j = (post_alpha_j * post_beta_j) / ((post_alpha_j + post_beta_j)^2 * (post_alpha_j + post_beta_j + 1))\n",
    "\n",
    "det2 = data.frame(\n",
    "  Prior = c(\"Uniform Prior\", \"Jeffrey's Prior\"),\n",
    "  Mean = c(mean_u, mean_j),\n",
    "  Variance = c(var_u, var_j)\n",
    ")\n",
    "\n",
    "kable(det2, caption=\"Det2 results comparison for the 2 different priors\")"
   ]
  },
  {
   "cell_type": "markdown",
   "id": "25518198-0180-4c33-8b21-692cefd9b5d7",
   "metadata": {},
   "source": [
    "b) Plot the posterior distributions for both cases"
   ]
  },
  {
   "cell_type": "code",
   "execution_count": 20,
   "id": "43fcf00d-58bb-408c-aeb3-c5f1e376d92d",
   "metadata": {},
   "outputs": [
    {
     "data": {
      "image/png": "[encoded data removed]",
      "text/plain": [
       "plot without title"
      ]
     },
     "metadata": {},
     "output_type": "display_data"
    },
    {
     "data": {
      "image/png": "[encoded data removed]",
      "text/plain": [
       "plot without title"
      ]
     },
     "metadata": {},
     "output_type": "display_data"
    }
   ],
   "source": [
    "probabilities = seq(0,1,length=1000)\n",
    "\n",
    "data_u = dbeta(probabilities, post_alpha_u, post_beta_u)\n",
    "data_j = dbeta(probabilities, post_alpha_j, post_beta_j)\n",
    "df_u = data.frame(probabilities=probabilities, data_u=data_u)\n",
    "df_j = data.frame(probabilities=probabilities, data_j=data_j)\n",
    "\n",
    "ggplot(df_u, aes(x=probabilities, y=data_u)) + \n",
    "    geom_line(color=\"blue\", size=1) + \n",
    "    labs(x=\"Probabilities\",\n",
    "         y=\"Density\",\n",
    "         title=\"Posterior Distribution for a Uniform Prior\") + \n",
    "    theme(axis.title.y=element_text(angle=0, vjust=0.5),\n",
    "          plot.title=element_text(hjust=0.5, size=14, face=\"bold\"))\n",
    "\n",
    "ggplot(df_j, aes(x=probabilities, y=data_j)) + \n",
    "    geom_line(color=\"red\", size=1) + \n",
    "    labs(x=\"Probabilities\",\n",
    "         y=\"Density\",\n",
    "         title=\"Posterior Distribution for a Jeffrey's Prior\") + \n",
    "    theme(axis.title.y=element_text(angle=0, vjust=0.5),\n",
    "          plot.title=element_text(hjust=0.5, size=14, face=\"bold\"))"
   ]
  },
  {
   "cell_type": "markdown",
   "id": "3f3d1f2b-5d33-4740-8dfc-9ba320b607f9",
   "metadata": {},
   "source": [
    "Taking into account that the same detector has been studied by researcher B, who has performed only n = 10 measurements and has obtained r = 10 signals,"
   ]
  },
  {
   "cell_type": "markdown",
   "id": "83eb9694-c0b0-477a-acab-79854a20d9e8",
   "metadata": {},
   "source": [
    "c) Evaluate the mean, the variance and the posterior distribution using a uniform prior with the result of researcher B"
   ]
  },
  {
   "cell_type": "code",
   "execution_count": 21,
   "id": "974eedf9-21ec-4f78-9601-ab3d71784bc4",
   "metadata": {},
   "outputs": [
    {
     "data": {
      "image/png": "[encoded data removed]",
      "text/plain": [
       "plot without title"
      ]
     },
     "metadata": {},
     "output_type": "display_data"
    }
   ],
   "source": [
    "n_b = 10\n",
    "r_b = 10\n",
    "\n",
    "prior_alpha_bu = 1\n",
    "prior_beta_bu = 1\n",
    "\n",
    "post_alpha_bu = prior_alpha_bu + r_b\n",
    "post_beta_bu = prior_beta_bu + (n_b-r_b)\n",
    "\n",
    "mean_bu = post_alpha_bu / (post_alpha_bu + post_beta_bu)\n",
    "var_bu = (post_alpha_bu * post_beta_bu) / ((post_alpha_bu + post_beta_bu)^2 * (post_alpha_bu + post_beta_bu + 1))\n",
    "\n",
    "data_bu = dbeta(probabilities, post_alpha_bu, post_beta_bu)\n",
    "df_bu = data.frame(probabilities=probabilities, data_bu=data_bu)\n",
    "\n",
    "\n",
    "ggplot(df_bu, aes(x=probabilities, y=data_bu)) + \n",
    "    geom_line(color=\"blue\", size=1) + \n",
    "    labs(x=\"Probabilities\",\n",
    "         y=\"Density\",\n",
    "         title=\"Posterior Distribution for a Uniform Prior evaluated by researcher B\") + \n",
    "    theme(axis.title.y=element_text(angle=0, vjust=0.5),\n",
    "          plot.title=element_text(hjust=0.5, size=14, face=\"bold\"))"
   ]
  },
  {
   "cell_type": "markdown",
   "id": "f753c1cf-7712-4470-927c-3411337fa1b6",
   "metadata": {},
   "source": [
    "d) Repeat the computation of points a) and b) with the data of researcher A using as a prior the posterior obtained from point c)"
   ]
  },
  {
   "cell_type": "code",
   "execution_count": null,
   "id": "c6b9126a-b1b7-41e0-b950-17b733cd4ab2",
   "metadata": {},
   "outputs": [],
   "source": []
  },
  {
   "cell_type": "markdown",
   "id": "9583bb83-4e09-4993-a9e3-270e00ba4fe3",
   "metadata": {},
   "source": [
    "e) [Optional] Compute 95% credible interval using the posterior of the previous point d)"
   ]
  },
  {
   "cell_type": "code",
   "execution_count": null,
   "id": "57e33d86-3516-4f96-8f70-1abf94716632",
   "metadata": {},
   "outputs": [],
   "source": []
  },
  {
   "cell_type": "code",
   "execution_count": null,
   "id": "2840c647-8c2c-4d06-a565-73f44cb30a5d",
   "metadata": {},
   "outputs": [],
   "source": []
  }
 ],
 "metadata": {
  "kernelspec": {
   "display_name": "R",
   "language": "R",
   "name": "ir"
  },
  "language_info": {
   "codemirror_mode": "r",
   "file_extension": ".r",
   "mimetype": "text/x-r-source",
   "name": "R",
   "pygments_lexer": "r",
   "version": "3.6.1"
  }
 },
 "nbformat": 4,
 "nbformat_minor": 5
}
