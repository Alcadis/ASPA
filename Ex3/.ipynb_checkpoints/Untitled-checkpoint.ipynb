{
 "cells": [
  {
   "cell_type": "markdown",
   "id": "d43c58c3-f84b-4708-8b81-dfac3a46decf",
   "metadata": {},
   "source": [
    "### Exercise 1: Bayesian Inference for Poisson model"
   ]
  },
  {
   "cell_type": "markdown",
   "id": "1d8435c0-a412-4802-985c-deb28bb04a41",
   "metadata": {},
   "source": [
    "The number of particles emitted by a radioactive source during a fixed interval of time  \n",
    "($\\Delta t = 10\\ s$) follows a Poisson distribution on the parameter $\\mu$. The number of particles  \n",
    "observed during consecutive time intervals is: 4, 1, 3, 1, 5 and 3.\n"
   ]
  },
  {
   "cell_type": "markdown",
   "id": "5cd48afb-adc8-40e9-8c02-f95cba4d6392",
   "metadata": {},
   "source": [
    "a) assuming a positive uniform priori distributiuon for the parameter $\\mu$"
   ]
  },
  {
   "cell_type": "markdown",
   "id": "901ae4cc-cff9-492a-99b2-1bd947990b80",
   "metadata": {},
   "source": [
    "- determine and draw the posterior distribution for $\\mu$, given the data"
   ]
  },
  {
   "cell_type": "code",
   "execution_count": null,
   "id": "17316b77-8192-4d30-bf1e-b7f0ffce5a9b",
   "metadata": {},
   "outputs": [],
   "source": []
  },
  {
   "cell_type": "markdown",
   "id": "24da6eb3-58b6-4ca3-bd82-e112e963e000",
   "metadata": {},
   "source": [
    "- evaluate mean, median and variance, both analytically and numerically in R"
   ]
  },
  {
   "cell_type": "code",
   "execution_count": null,
   "id": "a3a421ad-6c2b-4f9e-80f0-d81eb6d297ee",
   "metadata": {},
   "outputs": [],
   "source": []
  },
  {
   "cell_type": "markdown",
   "id": "2b3098ef-a9ea-4efc-9916-c3fbf80c984c",
   "metadata": {},
   "source": [
    "b) assuming a Gamma prior such that the expected valie is $\\mu = 3$ with a standard deviation $\\sigma = 1$"
   ]
  },
  {
   "cell_type": "markdown",
   "id": "3a0c01d2-8e2a-4481-87c3-fdb38ffe7181",
   "metadata": {},
   "source": [
    "- determine and draw the posterior distribution for $\\mu$, given the data"
   ]
  },
  {
   "cell_type": "code",
   "execution_count": null,
   "id": "257642f8-2878-4f45-a9c8-dbb64bb90b8d",
   "metadata": {},
   "outputs": [],
   "source": []
  },
  {
   "cell_type": "markdown",
   "id": "2dc97d02-34e4-483a-8dca-3eaf18cb831d",
   "metadata": {},
   "source": [
    "- evaluate mean, median and variance, both analytically and numerically in R"
   ]
  },
  {
   "cell_type": "code",
   "execution_count": null,
   "id": "4be5707e-4630-4103-8ca2-a3b2db7a2fea",
   "metadata": {},
   "outputs": [],
   "source": []
  },
  {
   "cell_type": "markdown",
   "id": "0a67b31c-0067-4b64-985e-99184aecfd8a",
   "metadata": {},
   "source": [
    "c) evaluate a 95% credibility interval for the result obtained with different priors. Compare the result with that obtained using a normal approximation for the posterior distribution, withwa the same mean and standard deviation"
   ]
  },
  {
   "cell_type": "code",
   "execution_count": null,
   "id": "3c19d4d3-01e9-4394-aab0-a544238a1fd5",
   "metadata": {},
   "outputs": [],
   "source": []
  },
  {
   "cell_type": "markdown",
   "id": "7e90eb30-2ae4-4b3c-a5de-86ce13f275dd",
   "metadata": {},
   "source": [
    "### Exercise 2: Efficiency using Bayesian approach "
   ]
  },
  {
   "cell_type": "markdown",
   "id": "a1813f29-0842-4059-a0ce-9e499c4f7a19",
   "metadata": {},
   "source": [
    "A researcher A wants to evaluate the efficiency of detector 2 (Det2). For this purpose, he sets up the apparatus shown in the figure 1, where Det2 is sandwiched between Det1 and Det3. Let n be the number of signals recorder simultaneously by Det1 and Det3, and r be those also recorder by Det2, researcher A obtains n = 500 and r = 312.\n",
    "Assuming a binomial model where n is the number of trials and r is the number of success out of n trials,"
   ]
  },
  {
   "cell_type": "markdown",
   "id": "7e65a7a0-a38c-4c37-b4a5-edc7005fb036",
   "metadata": {},
   "source": [
    "a) Evaluate the mean and the variance using a Bayesian approach under the hypothesis of:\n",
    "- uniform prior $\\sim$ U(0,1)\n",
    "- Jeffrey's prior $\\sim$ Beta(1/2,1/2)"
   ]
  },
  {
   "cell_type": "code",
   "execution_count": null,
   "id": "b688f3a0-9841-4e2c-88de-c6253194d946",
   "metadata": {},
   "outputs": [],
   "source": []
  },
  {
   "cell_type": "markdown",
   "id": "25518198-0180-4c33-8b21-692cefd9b5d7",
   "metadata": {},
   "source": [
    "b) Plot the posterior distributions for both cases"
   ]
  },
  {
   "cell_type": "code",
   "execution_count": null,
   "id": "43fcf00d-58bb-408c-aeb3-c5f1e376d92d",
   "metadata": {},
   "outputs": [],
   "source": []
  },
  {
   "cell_type": "markdown",
   "id": "3f3d1f2b-5d33-4740-8dfc-9ba320b607f9",
   "metadata": {},
   "source": [
    "Taking into account that the same detector has been studied by researcher B, who has performed only n = 10 measurements and has obtained r = 10 signals,"
   ]
  },
  {
   "cell_type": "markdown",
   "id": "83eb9694-c0b0-477a-acab-79854a20d9e8",
   "metadata": {},
   "source": [
    "c) Evaluate the mean, the variance and the posterior distribution using a uniform prior with the result of researcher B"
   ]
  },
  {
   "cell_type": "code",
   "execution_count": null,
   "id": "974eedf9-21ec-4f78-9601-ab3d71784bc4",
   "metadata": {},
   "outputs": [],
   "source": []
  },
  {
   "cell_type": "markdown",
   "id": "f753c1cf-7712-4470-927c-3411337fa1b6",
   "metadata": {},
   "source": [
    "d) Repeat the computation of points a) and b) with the data of researcher A using as a prior the posterior obtained from point c)"
   ]
  },
  {
   "cell_type": "code",
   "execution_count": null,
   "id": "c6b9126a-b1b7-41e0-b950-17b733cd4ab2",
   "metadata": {},
   "outputs": [],
   "source": []
  },
  {
   "cell_type": "markdown",
   "id": "9583bb83-4e09-4993-a9e3-270e00ba4fe3",
   "metadata": {},
   "source": [
    "e) [Optional] Compute 95% credible interval using the posterior of the previous point d)"
   ]
  },
  {
   "cell_type": "code",
   "execution_count": null,
   "id": "57e33d86-3516-4f96-8f70-1abf94716632",
   "metadata": {},
   "outputs": [],
   "source": []
  },
  {
   "cell_type": "code",
   "execution_count": null,
   "id": "2840c647-8c2c-4d06-a565-73f44cb30a5d",
   "metadata": {},
   "outputs": [],
   "source": []
  }
 ],
 "metadata": {
  "kernelspec": {
   "display_name": "R",
   "language": "R",
   "name": "ir"
  },
  "language_info": {
   "codemirror_mode": "r",
   "file_extension": ".r",
   "mimetype": "text/x-r-source",
   "name": "R",
   "pygments_lexer": "r",
   "version": "3.6.1"
  }
 },
 "nbformat": 4,
 "nbformat_minor": 5
}
