{
 "cells": [
  {
   "cell_type": "markdown",
   "id": "0e2057b3-6899-4777-92f7-25467bf4e15b",
   "metadata": {},
   "source": [
    "### Exercise 1 - Discrete random variable\n",
    "The probability distribution function of a discrete variable k is given by the zero-truncated Poisson\n",
    "distribution:\n",
    "\n",
    "\n",
    "$$P(k) = \\frac{\\lambda^k e^{-\\lambda}}{k!(1-e^{-\\lambda})} \\quad \\text{for } k = 1, 2, 3, \\ldots$$\r\n",
    "\n",
    "\n",
    "1) Write the R functions for the probability density and cumulative distribution functions, using the\n",
    "R naming convention.\n",
    " Assuming$$\\lambda\u0015 =1.4,$$,\n",
    "\n",
    "2) Produce two plots showing the pdf and cdf, separately.\n",
    "3) Compute the mean value and variance of the probability distribution using R.\n",
    "4) Generate a sample of random numbers from this distribution and show them in an histogram.\n",
    "Evaluate the sample mean."
   ]
  },
  {
   "cell_type": "code",
   "execution_count": null,
   "id": "c484312e-5054-4d67-8455-95988ae69a3b",
   "metadata": {},
   "outputs": [],
   "source": []
  }
 ],
 "metadata": {
  "kernelspec": {
   "display_name": "R",
   "language": "R",
   "name": "ir"
  },
  "language_info": {
   "codemirror_mode": "r",
   "file_extension": ".r",
   "mimetype": "text/x-r-source",
   "name": "R",
   "pygments_lexer": "r",
   "version": "3.6.1"
  }
 },
 "nbformat": 4,
 "nbformat_minor": 5
}
